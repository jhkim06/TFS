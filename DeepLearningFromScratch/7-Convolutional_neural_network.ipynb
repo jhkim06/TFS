{
 "cells": [
  {
   "cell_type": "markdown",
   "metadata": {},
   "source": [
    "# 합성곱 신경망 (Convolutional neural network)"
   ]
  },
  {
   "cell_type": "markdown",
   "metadata": {},
   "source": [
    "## 합성곱 계층 구현하기\n",
    "- CNN에서 계층사이를 흐르는 데이터는 4차원: (데이터 수, 입력 채널 수, 높이, 너비)\n",
    "- for문을 이용한다면 합성곱 구현은 복잡해진다\n",
    "- 책에서는 im2col() 이라는 함수를 이용하여 4차원의 데이터를 2차원으로 바꾸어 계산을 간단히 한다."
   ]
  },
  {
   "cell_type": "markdown",
   "metadata": {},
   "source": [
    "#### 책에서 구현한 im2col() 함수\n",
    "- https://github.com/WegraLee/deep-learning-from-scratch/blob/master/common/util.py#L39\n",
    "- CNN의 순전파에 이용한다"
   ]
  },
  {
   "cell_type": "code",
   "execution_count": null,
   "metadata": {},
   "outputs": [],
   "source": [
    "def im2col(input_data, filter_h, filter_w, stride=1, pad=0):\n",
    "    \"\"\"다수의 이미지를 입력받아 2차원 배열로 변환한다(평탄화).\n",
    "    \n",
    "    Parameters\n",
    "    ----------\n",
    "    input_data : 4차원 배열 형태의 입력 데이터(이미지 수, 채널 수, 높이, 너비)\n",
    "    filter_h : 필터의 높이\n",
    "    filter_w : 필터의 너비\n",
    "    stride : 스트라이드\n",
    "    pad : 패딩\n",
    "    \n",
    "    Returns\n",
    "    -------\n",
    "    col : 2차원 배열\n",
    "    \"\"\"\n",
    "    # 입력데이터의 형태정보를 가져온다\n",
    "    N, C, H, W = input_data.shape\n",
    "    \n",
    "    # 합성곱 결과의 형태를 계산한다 \n",
    "    out_h = (H + 2*pad - filter_h)//stride + 1\n",
    "    out_w = (W + 2*pad - filter_w)//stride + 1\n",
    "\n",
    "    # np.pad(패딩을 적용할 array, [각 axis에 패딩을 어떻게 적용할지 지정], '옵션')\n",
    "    # 예) pad()의 리스트 인자의 세번째 튜플 (pad,pad)는 입력데이터 (H,W) 행렬의 위,아래로 행을 'pad'개 만큼 만든다\n",
    "    # 예) pad()의 리스트 인자의 네번째 튜플 (pad,pad)는 입력데이터 (H,W) 행렬의 왼쪽,오른쪽으로 열을 'pad'개 만큼 만든다\n",
    "    img = np.pad(input_data, [(0,0), (0,0), (pad, pad), (pad, pad)], 'constant')\n",
    "    \n",
    "    # im2col()의 결과를 저장할 배열을 만든다\n",
    "    col = np.zeros((N, C, filter_h, filter_w, out_h, out_w))\n",
    "\n",
    "    # 이 for문에서 하는 일은 각 필터 원소와 곱할 입력 데이터의 원소들을 모아 col에 저장하는 것\n",
    "    for y in range(filter_h):\n",
    "        # 필터가 입력데이터 위에서 y 방향으로 움직이는 최대 위치\n",
    "        y_max = y + stride*out_h\n",
    "        for x in range(filter_w):\n",
    "            # 필터가 입력데이터 위에서 x 방향으로 움직이는 최대 위치\n",
    "            x_max = x + stride*out_w\n",
    "            \n",
    "            # filter_xy와 곱합 입력데이터(img[:, :, y:y_max:stride, x:x_max:stride])를 col[:, :, y, x, :, :] 저장\n",
    "            # y:y_max:stride에서 세번째 stride는 슬라이싱할때 건너뛰는 크기\n",
    "            col[:, :, y, x, :, :] = img[:, :, y:y_max:stride, x:x_max:stride] \n",
    "\n",
    "    # col을 후에 똑같은 방법으로 2차원배열로 변환한 필터와 곱하기 위해 형상을 바꾸어준다 \n",
    "    # col.transpose(0, 4, 5, 1, 2, 3) 결과는 (N, out_h, out_w, C, filter_h, filter_w)의 형태를 갖는 행렬\n",
    "    # reshape후에는 (N*out_h*out_w, C*filter_h*filter_w)의 2차원 배열이다\n",
    "    col = col.transpose(0, 4, 5, 1, 2, 3).reshape(N*out_h*out_w, -1)\n",
    "    return col"
   ]
  },
  {
   "cell_type": "code",
   "execution_count": null,
   "metadata": {},
   "outputs": [],
   "source": [
    "# 아래 코드는 im2col()을 이용하여 (1,3,7,7)의 배열을 (9,75)의 형상을 갖는 배열로 바꾸어준다\n",
    "x1 = np.random.rand(1, 3, 7, 7)\n",
    "col1 = im2col(x1, 5, 5, stride = 1, pad = 0)\n",
    "print(col1.shape)"
   ]
  },
  {
   "cell_type": "markdown",
   "metadata": {},
   "source": [
    "#### 책에서 구현한 col2im() 함수\n",
    "- https://github.com/WegraLee/deep-learning-from-scratch/blob/master/common/util.py#L71\n",
    "- CNN의 역전파에 이용한다"
   ]
  },
  {
   "cell_type": "code",
   "execution_count": null,
   "metadata": {},
   "outputs": [],
   "source": [
    "def col2im(col, input_shape, filter_h, filter_w, stride=1, pad=0):\n",
    "    \"\"\"(im2col과 반대) 2차원 배열을 입력받아 다수의 이미지 묶음으로 변환한다.\n",
    "    \n",
    "    Parameters\n",
    "    ----------\n",
    "    col : 2차원 배열(입력 데이터)\n",
    "    input_shape : 원래 이미지 데이터의 형상（예：(10, 1, 28, 28)）\n",
    "    filter_h : 필터의 높이\n",
    "    filter_w : 필터의 너비\n",
    "    stride : 스트라이드\n",
    "    pad : 패딩\n",
    "    \n",
    "    Returns\n",
    "    -------\n",
    "    img : 변환된 이미지들\n",
    "    \"\"\"\n",
    "    N, C, H, W = input_shape\n",
    "    out_h = (H + 2*pad - filter_h)//stride + 1\n",
    "    out_w = (W + 2*pad - filter_w)//stride + 1\n",
    "    \n",
    "    # 전달된 col은 (N*out_h*out_w, C*filter_h*filter_w)의 2차원 배열\n",
    "    # reshape() 후에는 (N, out_h, out_w, C, filter_h, filter_w)의 형상을 갖는 배열\n",
    "    # transpose() 후에는 (N, C, filter_h, filter_w, out_h, out_w)의 형상을 갖는 배열\n",
    "    col = col.reshape(N, out_h, out_w, C, filter_h, filter_w).transpose(0, 3, 4, 5, 1, 2)\n",
    "\n",
    "    img = np.zeros((N, C, H + 2*pad + stride - 1, W + 2*pad + stride - 1))\n",
    "    for y in range(filter_h):\n",
    "        y_max = y + stride*out_h\n",
    "        for x in range(filter_w):\n",
    "            x_max = x + stride*out_w\n",
    "            img[:, :, y:y_max:stride, x:x_max:stride] += col[:, :, y, x, :, :]\n",
    "\n",
    "    return img[:, :, pad:H + pad, pad:W + pad]"
   ]
  },
  {
   "cell_type": "markdown",
   "metadata": {},
   "source": [
    "### 합성곱 계층 클래스\n",
    "- https://github.com/WegraLee/deep-learning-from-scratch/blob/master/common/layers.py#L198"
   ]
  },
  {
   "cell_type": "code",
   "execution_count": null,
   "metadata": {},
   "outputs": [],
   "source": [
    "class Convolution:\n",
    "    def __init__(self, W, b, stride=1, pad=0):\n",
    "        self.W = W\n",
    "        self.b = b\n",
    "        self.stride = stride\n",
    "        self.pad = pad\n",
    "        \n",
    "        # 중간 데이터（backward 시 사용）\n",
    "        self.x = None   \n",
    "        self.col = None\n",
    "        self.col_W = None\n",
    "        \n",
    "        # 가중치와 편향 매개변수의 기울기\n",
    "        self.dW = None\n",
    "        self.db = None\n",
    "\n",
    "    def forward(self, x):\n",
    "        FN, C, FH, FW = self.W.shape\n",
    "        N, C, H, W = x.shape\n",
    "        out_h = 1 + int((H + 2*self.pad - FH) / self.stride)\n",
    "        out_w = 1 + int((W + 2*self.pad - FW) / self.stride)\n",
    "\n",
    "        col = im2col(x, FH, FW, self.stride, self.pad)\n",
    "        # im2col()의 결과로 나온 행렬과 dot()연산하기위해 변형한다\n",
    "        col_W = self.W.reshape(FN, -1).T\n",
    "\n",
    "        out = np.dot(col, col_W) + self.b\n",
    "        out = out.reshape(N, out_h, out_w, -1).transpose(0, 3, 1, 2)\n",
    "\n",
    "        self.x = x\n",
    "        self.col = col\n",
    "        self.col_W = col_W\n",
    "\n",
    "        return out\n",
    "\n",
    "    def backward(self, dout):\n",
    "        FN, C, FH, FW = self.W.shape\n",
    "        dout = dout.transpose(0,2,3,1).reshape(-1, FN)\n",
    "\n",
    "        self.db = np.sum(dout, axis=0)\n",
    "        self.dW = np.dot(self.col.T, dout)\n",
    "        self.dW = self.dW.transpose(1, 0).reshape(FN, C, FH, FW)\n",
    "\n",
    "        dcol = np.dot(dout, self.col_W.T)\n",
    "        dx = col2im(dcol, self.x.shape, FH, FW, self.stride, self.pad)\n",
    "\n",
    "        return dx"
   ]
  },
  {
   "cell_type": "code",
   "execution_count": null,
   "metadata": {},
   "outputs": [],
   "source": []
  }
 ],
 "metadata": {
  "kernelspec": {
   "display_name": "Python 3",
   "language": "python",
   "name": "python3"
  },
  "language_info": {
   "codemirror_mode": {
    "name": "ipython",
    "version": 3
   },
   "file_extension": ".py",
   "mimetype": "text/x-python",
   "name": "python",
   "nbconvert_exporter": "python",
   "pygments_lexer": "ipython3",
   "version": "3.6.8"
  }
 },
 "nbformat": 4,
 "nbformat_minor": 4
}
