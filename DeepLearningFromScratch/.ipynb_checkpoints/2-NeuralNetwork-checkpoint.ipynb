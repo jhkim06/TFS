{
 "cells": [
  {
   "cell_type": "markdown",
   "metadata": {},
   "source": [
    "# 2. 신경망(Neural Network)"
   ]
  },
  {
   "cell_type": "markdown",
   "metadata": {},
   "source": [
    "- 책 Deep Learning from Scratch 3장 참조\n",
    "- 활성화 함수(activation function) : 각각의 가중치를 곱한 신호들과 편향의 총합이 활성화를 일으키는지를 결정\n",
    "- 신경망 : 매끄러운 활성화 함수를 갖는 다층 퍼셉트론을 의미한다."
   ]
  },
  {
   "cell_type": "code",
   "execution_count": 1,
   "metadata": {},
   "outputs": [],
   "source": [
    "import numpy as np\n",
    "import matplotlib.pyplot as plt\n",
    "%matplotlib inline"
   ]
  },
  {
   "cell_type": "markdown",
   "metadata": {},
   "source": [
    "### 활성화 함수(Activation Function)"
   ]
  },
  {
   "cell_type": "markdown",
   "metadata": {},
   "source": [
    "- 앞서 살펴본 퍼셉트론에서는 그 정의상 계단함수(step function)만을 활성화 함수로 이용했다.\n",
    "- 시그모이드 함수, ReLU 함수 등 매끄러운 비선형 함수들을 활성화함수로 이용할 수 있다.\n",
    "- Vanishing Gradient 문제와 관련하여 활성화 함수의 역할을 소개한 웹사이트 참조 : https://excelsior-cjh.tistory.com/177\n",
    "- 시그모이드 함수를 발전시킨 활성화함수에 대해서 참조 : https://medium.com/techspace-usict/swish-a-self-gated-activation-function-3b7e551dacb5"
   ]
  },
  {
   "cell_type": "code",
   "execution_count": 2,
   "metadata": {},
   "outputs": [],
   "source": [
    "# 계단 함수\n",
    "def step_function(x):\n",
    "    if x > 0:\n",
    "        return 1\n",
    "    else:\n",
    "        return 0"
   ]
  },
  {
   "cell_type": "code",
   "execution_count": 3,
   "metadata": {},
   "outputs": [],
   "source": [
    "# 시그모이드 함수\n",
    "def sigmoid(x):\n",
    "    return 1 / (1 + np.exp(-x))"
   ]
  },
  {
   "cell_type": "code",
   "execution_count": 4,
   "metadata": {},
   "outputs": [
    {
     "data": {
      "image/png": "[encoded data removed]",
      "text/plain": [
       "<Figure size 432x288 with 1 Axes>"
      ]
     },
     "metadata": {
      "needs_background": "light"
     },
     "output_type": "display_data"
    }
   ],
   "source": [
    "# 시그모이드 함수의 모양\n",
    "x = np.arange(-5.0, 5.0, 0.1)\n",
    "y = sigmoid(x)\n",
    "plt.plot(x, y, color=\"red\")\n",
    "plt.ylim(-0.1, 1.1)\n",
    "plt.grid()\n",
    "plt.show()"
   ]
  },
  {
   "cell_type": "code",
   "execution_count": 5,
   "metadata": {},
   "outputs": [],
   "source": [
    "# 기존에는 시그모이드 함수를 많이 이용했지만, 최근에는 ReLU(Rectified Linear Unit) 함수가 활성화 함수로 자주 쓰인다.\n",
    "def relu(x):\n",
    "    return np.maximum(0, x)"
   ]
  },
  {
   "cell_type": "code",
   "execution_count": 6,
   "metadata": {},
   "outputs": [
    {
     "data": {
      "image/png": "[encoded data removed]",
      "text/plain": [
       "<Figure size 432x288 with 1 Axes>"
      ]
     },
     "metadata": {
      "needs_background": "light"
     },
     "output_type": "display_data"
    }
   ],
   "source": [
    "# ReLU 함수의 모양\n",
    "x = np.arange(-5.0, 5.0, 0.1)\n",
    "y = relu(x)\n",
    "plt.plot(x, y, color=\"blue\")\n",
    "plt.grid()\n",
    "plt.show()"
   ]
  },
  {
   "cell_type": "markdown",
   "metadata": {},
   "source": [
    "- 모든 활성화 함수는 \"비선형 함수\"여야 한다.\n",
    "- 활성화 함수를 선형 함수로 할 경우 아무리 층(layer)를 깊게 쌓아도 학습효과가 없다."
   ]
  },
  {
   "cell_type": "markdown",
   "metadata": {},
   "source": [
    "### 간단한 3층 신경망의 설계"
   ]
  },
  {
   "cell_type": "markdown",
   "metadata": {},
   "source": [
    "- 은닉층(hidden layer)의 활성화함수와 달리 출력층의 활성화 함수는 문제의 성격에 따라 달리 정한다.\n",
    "- 회귀문제 : 항등함수\n",
    "- 2진 분류문제 : 시그모이드 함수\n",
    "- 다중 분류문제 : 소프트맥스(softmax) 함수"
   ]
  },
  {
   "cell_type": "code",
   "execution_count": 7,
   "metadata": {},
   "outputs": [],
   "source": [
    "# 출력층의 활성화 함수는 일단 항등함수로 한다.\n",
    "def identity_function(x):\n",
    "    return x"
   ]
  },
  {
   "cell_type": "code",
   "execution_count": 8,
   "metadata": {},
   "outputs": [],
   "source": [
    "def init_network():\n",
    "    network = {}\n",
    "    network[\"W1\"] = np.array([[0.1, 0.3, 0.5], [0.2, 0.4, 0.6]])\n",
    "    network[\"b1\"] = np.array([0.1, 0.2, 0.3])\n",
    "    network[\"W2\"] = np.array([[0.1, 0.4], [0.2, 0.5], [0.3, 0.6]])\n",
    "    network[\"b2\"] = np.array([0.1, 0.2])\n",
    "    network[\"W3\"] = np.array([[0.1, 0.3], [0.2, 0.4]])\n",
    "    network[\"b3\"] = np.array([0.1, 0.2])\n",
    "    \n",
    "    return network\n",
    "\n",
    "\n",
    "def forward(network, x):\n",
    "    W1, W2, W3 = network[\"W1\"], network[\"W2\"], network[\"W3\"]\n",
    "    b1, b2, b3 = network[\"b1\"], network[\"b2\"], network[\"b3\"]\n",
    "    \n",
    "    a1 = np.dot(x, W1) + b1\n",
    "    z1 = sigmoid(a1)\n",
    "    a2 = np.dot(z1, W2) + b2\n",
    "    z2 = sigmoid(a2)\n",
    "    a3 = np.dot(z2, W3) + b3\n",
    "    y = identity_function(a3)\n",
    "    \n",
    "    return y"
   ]
  },
  {
   "cell_type": "code",
   "execution_count": 9,
   "metadata": {},
   "outputs": [
    {
     "name": "stdout",
     "output_type": "stream",
     "text": [
      "[0.31682708 0.69627909]\n"
     ]
    }
   ],
   "source": [
    "# 순전파(forward propagation)의 시행\n",
    "network = init_network()\n",
    "x = np.array([1.0, 0.5])\n",
    "y = forward(network, x)\n",
    "print(y)"
   ]
  },
  {
   "cell_type": "code",
   "execution_count": 10,
   "metadata": {},
   "outputs": [],
   "source": [
    "# 출력층의 활성화 함수로 소프트맥스 함수(softmax function)을 이용해보자.\n",
    "def softmax(a):\n",
    "    exp_a = np.exp(a)\n",
    "    sum_exp_a = np.sum(exp_a)\n",
    "    y = exp_a / sum_exp_a\n",
    "\n",
    "    return y"
   ]
  },
  {
   "cell_type": "markdown",
   "metadata": {},
   "source": [
    "- 소프트맥스 함수는 지수(exponential) 연산과 관련되어 오버플로(overflow) 문제가 발생할 수 있다.\n",
    "- 이를 해결하기 위해 각 입력값에서 입력값들 중 최댓값을 빼주는 방식으로 크기를 조정하는 방법을 쓸 수 있다."
   ]
  },
  {
   "cell_type": "code",
   "execution_count": 11,
   "metadata": {},
   "outputs": [],
   "source": [
    "# 오버플로(overflow) 문제의 해결\n",
    "def modified_softmax(a):\n",
    "    c = np.max(a)\n",
    "    exp_a = np.exp(a - c)\n",
    "    sum_exp_a = np.sum(exp_a)\n",
    "    y = exp_a / sum_exp_a\n",
    "    \n",
    "    return y"
   ]
  },
  {
   "cell_type": "markdown",
   "metadata": {},
   "source": [
    "- 소프트맥스 함수는 단조함수(monotonic function)이므로 입력값의 크기순이 그대로 보존된다.\n",
    "- 따라서 순전파를 통한 추론단계에서는 소프트맥스 함수를 생략하기도 한다(학습단계에서는 필요함)."
   ]
  },
  {
   "cell_type": "markdown",
   "metadata": {},
   "source": [
    "### MNIST 예제"
   ]
  },
  {
   "cell_type": "markdown",
   "metadata": {},
   "source": [
    "- 머신러닝은 \"학습\"과 \"추론\"으로 구성되는데, 여기서는 이미 학습된 매개변수를 가지고 추론만 진행해본다.\n",
    "- 아래의 load_mnist 함수는 mnist.py에 정의되어 있으니 참조할 것"
   ]
  },
  {
   "cell_type": "code",
   "execution_count": 12,
   "metadata": {},
   "outputs": [],
   "source": [
    "import pickle\n",
    "from mnist import load_mnist\n",
    "from PIL import Image\n",
    "from IPython.display import display"
   ]
  },
  {
   "cell_type": "code",
   "execution_count": 13,
   "metadata": {},
   "outputs": [],
   "source": [
    "# 이 부분은 최초 실행시에만 다운로드가 작동해서 시간이 조금 걸린다.\n",
    "# 한번 MNIST 데이터를 다운로드 받아놓으면, 그 이후부터 이 셀은 다운로드 기능이 작동하지 않는다.\n",
    "(x_train, t_train), (x_test, t_test) = load_mnist(flatten=True, normalize=False)"
   ]
  },
  {
   "cell_type": "markdown",
   "metadata": {},
   "source": [
    "- load_mnist 함수는 normalize, flatten, one_hot_label 3개의 인자를 받는데, 각각 True, True, False가 default값이다."
   ]
  },
  {
   "cell_type": "code",
   "execution_count": 14,
   "metadata": {},
   "outputs": [
    {
     "name": "stdout",
     "output_type": "stream",
     "text": [
      "(60000, 784)\n",
      "(60000,)\n",
      "(10000, 784)\n",
      "(10000,)\n"
     ]
    }
   ],
   "source": [
    "# 데이터의 모양 확인\n",
    "# 학습데이터 60000개, 테스트데이터 10000개\n",
    "print(x_train.shape)\n",
    "print(t_train.shape)\n",
    "print(x_test.shape)\n",
    "print(t_test.shape)"
   ]
  },
  {
   "cell_type": "code",
   "execution_count": 15,
   "metadata": {},
   "outputs": [
    {
     "name": "stdout",
     "output_type": "stream",
     "text": [
      "5\n",
      "(784,)\n",
      "(28, 28)\n"
     ]
    },
    {
     "data": {
      "image/png": "[encoded data removed]",
      "text/plain": [
       "<PIL.Image.Image image mode=L size=28x28 at 0x114A5CEB8>"
      ]
     },
     "metadata": {},
     "output_type": "display_data"
    }
   ],
   "source": [
    "# 데이터 내용 확인하기\n",
    "def img_show(img):\n",
    "    pil_img = Image.fromarray(np.uint8(img))    # PIL용 데이터 객체로 변환\n",
    "    display(pil_img)    # pil_img.show()는 jupyter notebook에서는 잘 작동하지 않는 듯 하다.\n",
    "\n",
    "(x_train, t_train), (x_test, t_test) = load_mnist(flatten=True, normalize=False)\n",
    "\n",
    "img = x_train[0]\n",
    "label = t_train[0]\n",
    "print(label)\n",
    "\n",
    "print(img.shape)\n",
    "img = img.reshape(28, 28)\n",
    "print(img.shape)\n",
    "\n",
    "img_show(img)"
   ]
  },
  {
   "cell_type": "code",
   "execution_count": 16,
   "metadata": {},
   "outputs": [],
   "source": [
    "# normalize = True로 설정하면 0~255의 정수인 이미지 픽셀값을 0~1의 실수값으로 한정시켜 정규화(normalization)한다.\n",
    "# 여기서는 단순히 입력값들을 최댓값 255로 나눠주므로써 값의 범위를 한정시키지만, 다른 방법들도 존재한다.\n",
    "def get_data():\n",
    "    (x_train, t_train), (x_test, t_test) = load_mnist(normalize=True, flatten=True, one_hot_label=False)\n",
    "    return x_test, t_test\n",
    "\n",
    "\n",
    "# 미리 학습된 매개변수가 저장된 파일을 불러온다.\n",
    "# pickle은 특정 객체를 파일로 저장하거나 그러한 파일을 불러오는 모듈이다.\n",
    "# sample_weight.pkl은 매개변수(가중치, 편향)가 파이썬 딕셔너리 형태로 저장되어 있다.\n",
    "def init_network():\n",
    "    with open(\"sample_weight.pkl\", 'rb') as f:\n",
    "        network = pickle.load(f)\n",
    "    \n",
    "    # 딕셔너리의 내용 확인\n",
    "    for param in network:\n",
    "        print(param, network[param].shape)\n",
    "\n",
    "    return network\n",
    "\n",
    "\n",
    "def predict(network, x):\n",
    "    W1, W2, W3 = network['W1'], network['W2'], network['W3']\n",
    "    b1, b2, b3 = network['b1'], network['b2'], network['b3']\n",
    "\n",
    "    a1 = np.dot(x, W1) + b1\n",
    "    z1 = sigmoid(a1)\n",
    "    a2 = np.dot(z1, W2) + b2\n",
    "    z2 = sigmoid(a2)\n",
    "    a3 = np.dot(z2, W3) + b3\n",
    "    y = softmax(a3)\n",
    "\n",
    "    return y"
   ]
  },
  {
   "cell_type": "markdown",
   "metadata": {},
   "source": [
    "#### NOTE ) 전처리(pre-processing)와 정규화(normalization)"
   ]
  },
  {
   "cell_type": "markdown",
   "metadata": {},
   "source": [
    "- 데이터를 특정 범위로 변환하는 처리를 정규화(normalization)라고 한다.\n",
    "- 일반적으로 신경망의 입력데이터에 특정 변환을 가하는 것을 전처리(pre-processing)라고 하며, 위에서는 전처리 작업으로 정규화를 수행한 것이다."
   ]
  },
  {
   "cell_type": "code",
   "execution_count": 17,
   "metadata": {},
   "outputs": [
    {
     "name": "stdout",
     "output_type": "stream",
     "text": [
      "b2 (100,)\n",
      "W1 (784, 50)\n",
      "b1 (50,)\n",
      "W2 (50, 100)\n",
      "W3 (100, 10)\n",
      "b3 (10,)\n",
      "Accuracy:0.9352\n"
     ]
    }
   ],
   "source": [
    "# 테스트데이터에 대해 정확도를 측정해본다.\n",
    "wrong_predicted = []\n",
    "\n",
    "x, t = get_data()\n",
    "network = init_network()\n",
    "\n",
    "accuracy_cnt = 0\n",
    "for i in range(len(x)):\n",
    "    y = predict(network, x[i])\n",
    "    p = np.argmax(y)\n",
    "    if p == t[i]:\n",
    "        accuracy_cnt += 1\n",
    "    else:\n",
    "        wrong_predicted.append([x[i],t[i],p])\n",
    "\n",
    "print(\"Accuracy:\" + str(float(accuracy_cnt) / len(x)))"
   ]
  },
  {
   "cell_type": "code",
   "execution_count": 18,
   "metadata": {},
   "outputs": [
    {
     "data": {
      "image/png": "[encoded data removed]",
      "text/plain": [
       "<PIL.Image.Image image mode=L size=28x28 at 0x11E9C0828>"
      ]
     },
     "metadata": {},
     "output_type": "display_data"
    },
    {
     "name": "stdout",
     "output_type": "stream",
     "text": [
      "answer : 5 predicted : 6\n"
     ]
    },
    {
     "data": {
      "image/png": "[encoded data removed]",
      "text/plain": [
       "<PIL.Image.Image image mode=L size=28x28 at 0x11E9C0208>"
      ]
     },
     "metadata": {},
     "output_type": "display_data"
    },
    {
     "name": "stdout",
     "output_type": "stream",
     "text": [
      "answer : 4 predicted : 6\n"
     ]
    },
    {
     "data": {
      "image/png": "[encoded data removed]",
      "text/plain": [
       "<PIL.Image.Image image mode=L size=28x28 at 0x11E9C0828>"
      ]
     },
     "metadata": {},
     "output_type": "display_data"
    },
    {
     "name": "stdout",
     "output_type": "stream",
     "text": [
      "answer : 6 predicted : 2\n"
     ]
    },
    {
     "data": {
      "image/png": "[encoded data removed]",
      "text/plain": [
       "<PIL.Image.Image image mode=L size=28x28 at 0x11E9C0240>"
      ]
     },
     "metadata": {},
     "output_type": "display_data"
    },
    {
     "name": "stdout",
     "output_type": "stream",
     "text": [
      "answer : 9 predicted : 4\n"
     ]
    },
    {
     "data": {
      "image/png": "[encoded data removed]",
      "text/plain": [
       "<PIL.Image.Image image mode=L size=28x28 at 0x11E9C0470>"
      ]
     },
     "metadata": {},
     "output_type": "display_data"
    },
    {
     "name": "stdout",
     "output_type": "stream",
     "text": [
      "answer : 7 predicted : 4\n"
     ]
    }
   ],
   "source": [
    "# 테스트데이터에 대해서 현재 제대로 예측되지 못하는 것들을 선별해 살펴본다.\n",
    "for data in wrong_predicted[:5]:    \n",
    "    img = data[0] * 255\n",
    "    img = img.reshape(28, 28)\n",
    "    img_show(img)\n",
    "    print(\"answer :\", data[1], \"predicted :\", data[2])"
   ]
  },
  {
   "cell_type": "markdown",
   "metadata": {},
   "source": [
    "- 사람이 판단하기에도 헷갈리는지 확인해볼 수 있다."
   ]
  },
  {
   "cell_type": "code",
   "execution_count": 19,
   "metadata": {},
   "outputs": [
    {
     "name": "stdout",
     "output_type": "stream",
     "text": [
      "b2 (100,)\n",
      "W1 (784, 50)\n",
      "b1 (50,)\n",
      "W2 (50, 100)\n",
      "W3 (100, 10)\n",
      "b3 (10,)\n",
      "Accuracy:0.9352\n"
     ]
    }
   ],
   "source": [
    "# 배치(batch) 처리\n",
    "# 입력데이터를 여러개씩 묶은 것을 배치(batch)라고 한다.\n",
    "# 한번에 100개의 이미지에 대해서 추론작업을 진행하므로써 전체적으로 수행속도가 빨라진다.\n",
    "x, t = get_data()\n",
    "network = init_network()\n",
    "\n",
    "batch_size = 100 # 배치 크기\n",
    "accuracy_cnt = 0\n",
    "\n",
    "for i in range(0, len(x), batch_size):\n",
    "    x_batch = x[i:i+batch_size]\n",
    "    y_batch = predict(network, x_batch)\n",
    "    p = np.argmax(y_batch, axis=1)\n",
    "    accuracy_cnt += np.sum(p == t[i:i+batch_size])\n",
    "\n",
    "print(\"Accuracy:\" + str(float(accuracy_cnt) / len(x)))"
   ]
  },
  {
   "cell_type": "markdown",
   "metadata": {},
   "source": [
    "- 수치 계산 라이브러리 대부분이 큰 배열을 효율적으로 처리할 수 있도록 고도로 최적화되어 있다.\n",
    "- 또한, 데이터를 읽어들이는 과정(I/O : input/output)이 상대적으로 느리므로, 데이터를 묶음으로 처리하면 읽는 횟수가 줄어들고 빠른 CPU나 GPU로 순수계산을 수행하는 비율이 높아져서 전체적으로 수행속도가 빨라진다.\n",
    "- 따라서, 큰 배열을 한꺼번에 계산하는 것이 작은 배열을 여러번 계산하는 것보다 빠르다."
   ]
  }
 ],
 "metadata": {
  "kernelspec": {
   "display_name": "Python 3",
   "language": "python",
   "name": "python3"
  },
  "language_info": {
   "codemirror_mode": {
    "name": "ipython",
    "version": 3
   },
   "file_extension": ".py",
   "mimetype": "text/x-python",
   "name": "python",
   "nbconvert_exporter": "python",
   "pygments_lexer": "ipython3",
   "version": "3.6.5"
  }
 },
 "nbformat": 4,
 "nbformat_minor": 2
}
