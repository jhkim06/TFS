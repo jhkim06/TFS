{
 "cells": [
  {
   "cell_type": "markdown",
   "metadata": {},
   "source": [
    "# 4. 오차역전파법(Backward Propagation) "
   ]
  },
  {
   "cell_type": "markdown",
   "metadata": {},
   "source": [
    "- 연쇄법칙에 기초한 오차역전파법을 계산그래프로 설명한 이론적인 내용은 책 Deep Learning from Scratch 5장 참조할 것\n",
    "- 수치 미분은 간단하지만, 학습에 이용하기에는 계산시간이 오래 걸린다.\n",
    "- 오차역전파법을 이용하면 각 매개변수에 대한 손실함수의 미분값을 훨씬 빠르게 구할 수 있다."
   ]
  },
  {
   "cell_type": "code",
   "execution_count": 1,
   "metadata": {},
   "outputs": [],
   "source": [
    "import numpy as np\n",
    "import matplotlib.pyplot as plt\n",
    "%matplotlib inline"
   ]
  },
  {
   "cell_type": "code",
   "execution_count": 2,
   "metadata": {},
   "outputs": [],
   "source": [
    "# 곱셈 노드에서의 순전파와 역전파\n",
    "class MulLayer:\n",
    "    def __init__(self):\n",
    "        self.x = None\n",
    "        self.y = None\n",
    "\n",
    "    def forward(self, x, y):\n",
    "        self.x = x\n",
    "        self.y = y                \n",
    "        out = x * y\n",
    "        return out\n",
    "\n",
    "    def backward(self, dout):\n",
    "        dx = dout * self.y  # x와 y를 바꾼다.\n",
    "        dy = dout * self.x\n",
    "        return dx, dy"
   ]
  },
  {
   "cell_type": "code",
   "execution_count": 3,
   "metadata": {},
   "outputs": [],
   "source": [
    "# 덧셈 노드에서의 순전파와 역전파\n",
    "# 역전파의 입력이 그대로 출력이 된다.\n",
    "class AddLayer:\n",
    "    def __init__(self):\n",
    "        pass\n",
    "\n",
    "    def forward(self, x, y):\n",
    "        out = x + y\n",
    "        return out\n",
    "\n",
    "    def backward(self, dout):\n",
    "        dx = dout * 1\n",
    "        dy = dout * 1\n",
    "        return dx, dy"
   ]
  },
  {
   "cell_type": "code",
   "execution_count": 4,
   "metadata": {},
   "outputs": [],
   "source": [
    "# ReLU 노드에서의 순전파와 역전파\n",
    "# 순전파에서의 입력이 0보다 작거나 같았을때, 역전파에서의 출력은 0이 된다.\n",
    "class Relu:\n",
    "    def __init_(self):\n",
    "        self.mask = None\n",
    "        \n",
    "    def forward(self, x):\n",
    "        self.mask = (x <= 0)\n",
    "        out = x.copy()\n",
    "        out[self.mask] = 0\n",
    "        return out\n",
    "    \n",
    "    def backward(self, dout):\n",
    "        dout[self.mask] = 0\n",
    "        dx = dout\n",
    "        return dx"
   ]
  },
  {
   "cell_type": "code",
   "execution_count": 5,
   "metadata": {},
   "outputs": [],
   "source": [
    "# Sigmoid 노드에서의 순전파와 역전파\n",
    "class Sigmoid:\n",
    "    def __init__(self):\n",
    "        self.out = None\n",
    "        \n",
    "    def forward(self, x):\n",
    "        out = 1 / (1 + np.exp(-x))\n",
    "        self.out = out\n",
    "        return out\n",
    "    \n",
    "    def backward(self, dout):\n",
    "        dx = dout * (1.0 - self.out) * self.out\n",
    "        return dx"
   ]
  },
  {
   "cell_type": "code",
   "execution_count": 6,
   "metadata": {},
   "outputs": [],
   "source": [
    "# Affine 계층\n",
    "# 직접 손으로 풀어서 계산해서 이해해볼 것!\n",
    "class Affine:\n",
    "    def __init__(self, W, b):\n",
    "        self.W = W\n",
    "        self.b = b\n",
    "        self.x = None\n",
    "        self.original_x_shape = None\n",
    "        # 가중치와 편향 매개변수의 미분\n",
    "        self.dW = None\n",
    "        self.db = None\n",
    "\n",
    "    def forward(self, x):\n",
    "        # 텐서 대응 (3차 이상 다차원텐서에 대비한 것 ex:MNIST)\n",
    "        self.original_x_shape = x.shape\n",
    "        x = x.reshape(x.shape[0], -1)\n",
    "        self.x = x\n",
    "        out = np.dot(self.x, self.W) + self.b\n",
    "        return out\n",
    "\n",
    "    def backward(self, dout):\n",
    "        dx = np.dot(dout, self.W.T)\n",
    "        self.dW = np.dot(self.x.T, dout)\n",
    "        self.db = np.sum(dout, axis=0)\n",
    "        # self.original_x_shape 앞의 \"*\" 는 unpacking 기능! \n",
    "        dx = dx.reshape(*self.original_x_shape)  # 입력 데이터 모양 변경(텐서 대응)\n",
    "        return dx"
   ]
  },
  {
   "cell_type": "code",
   "execution_count": 7,
   "metadata": {},
   "outputs": [],
   "source": [
    "# 다차원 배열에 적용가능한 소프트맥스 함수 정의\n",
    "def softmax(x):\n",
    "    x = x.T    # x.ndim==2 일때도 일관성있기 처리하기 위해 transpose를 취한다.\n",
    "    exp_x = np.exp(x - np.max(x, axis=0))\n",
    "    sum_exp_x = np.sum(exp_x, axis=0)\n",
    "    y = exp_x / sum_exp_x\n",
    "    return y.T\n",
    "\n",
    "# 미니배치 학습을 위한 교차 엔트로피 오차\n",
    "def cross_entropy_error(y, t):\n",
    "    # mini-batch size가 1일때도 일관성이 있도록 모양을 2차원으로 다시 잡아준다.\n",
    "    if y.ndim == 1:\n",
    "        t = t.reshape(1, t.size)\n",
    "        y = y.reshape(1, y.size)\n",
    "\n",
    "    batch_size = y.shape[0]\n",
    "    delta = 1e-7\n",
    "\n",
    "    if one_hot_label:\n",
    "        return -np.sum(t * np.log(y + delta)) / batch_size\n",
    "    # one_hot_label=False일 때, 예측 y는 여전히 one_hot_encoding이지만 레이블 t는 2, 7과 같은 숫자가 된다.\n",
    "    else:\n",
    "        return -np.sum(np.log(y[np.arange(batch_size), t] + delta)) / batch_size"
   ]
  },
  {
   "cell_type": "code",
   "execution_count": 8,
   "metadata": {},
   "outputs": [],
   "source": [
    "# Softmax-with-Loss 계층\n",
    "# 이 계층의 (역전파)출력값은 Softmax의 (순전파)출력값과 정답 레이블(one-hot encoding)의 차분이다.\n",
    "# 회귀(regression)도 결과가 위와 같다.\n",
    "class SoftmaxWithLoss:\n",
    "    def __init__(self):\n",
    "        self.loss = None  # 손실함수\n",
    "        self.y = None     # softmax의 출력\n",
    "        self.t = None     # 정답 레이블(원-핫 인코딩 형태)\n",
    "\n",
    "    def forward(self, x, t):\n",
    "        self.t = t\n",
    "        self.y = softmax(x)\n",
    "        self.loss = cross_entropy_error(self.y, self.t)\n",
    "        return self.loss\n",
    "    \n",
    "    def backward(self, dout=1):\n",
    "        batch_size = self.t.shape[0]\n",
    "        if self.t.size == self.y.size:  # 정답 레이블이 원-핫 인코딩 형태일 때\n",
    "            dx = (self.y - self.t) / batch_size\n",
    "        else:\n",
    "            dx = self.y.copy()\n",
    "            dx[np.arange(batch_size), self.t] -= 1\n",
    "            dx = dx / batch_size\n",
    "        return dx"
   ]
  }
 ],
 "metadata": {
  "kernelspec": {
   "display_name": "Python 3",
   "language": "python",
   "name": "python3"
  },
  "language_info": {
   "codemirror_mode": {
    "name": "ipython",
    "version": 3
   },
   "file_extension": ".py",
   "mimetype": "text/x-python",
   "name": "python",
   "nbconvert_exporter": "python",
   "pygments_lexer": "ipython3",
   "version": "3.6.5"
  }
 },
 "nbformat": 4,
 "nbformat_minor": 2
}
