{
 "cells": [
  {
   "cell_type": "markdown",
   "metadata": {},
   "source": [
    "# 3. 신경망 학습(Learning)"
   ]
  },
  {
   "cell_type": "markdown",
   "metadata": {},
   "source": [
    "- 책 Deep Learning from Scratch 4장 참조\n",
    "- 퍼셉트론 수렴정리 : https://nbviewer.jupyter.org/github/metamath1/ml-simple-works/blob/master/perceptron/perceptron.ipynb\n",
    "- 데이터 주도 학습 : 기존의 기계학습은 사람이 추출한 특징을 학습시켰지만, 데이터 주도 학습은 사람의 개입 없이 데이터를 있는 그대로 학습한다.\n",
    "- 오버피팅(overfitting)을 방지하기 위해 데이터를 훈련데이터와 시험데이터로 나눠서 학습과 시험을 수행한다."
   ]
  },
  {
   "cell_type": "code",
   "execution_count": 1,
   "metadata": {},
   "outputs": [],
   "source": [
    "import numpy as np\n",
    "import matplotlib.pyplot as plt\n",
    "%matplotlib inline"
   ]
  },
  {
   "cell_type": "markdown",
   "metadata": {},
   "source": [
    "### 손실함수(Loss Function)"
   ]
  },
  {
   "cell_type": "markdown",
   "metadata": {},
   "source": [
    "- 손실함수의 최소화를 지표로 하여 매개변수(가중치, 편향)을 조정하는 과정을 \"학습\"이라 한다."
   ]
  },
  {
   "cell_type": "code",
   "execution_count": 2,
   "metadata": {},
   "outputs": [],
   "source": [
    "# 오차제곱합\n",
    "def sum_squares_error(y, t):\n",
    "    return 0.5 * np.sum((y-t)**2)"
   ]
  },
  {
   "cell_type": "code",
   "execution_count": 3,
   "metadata": {},
   "outputs": [],
   "source": [
    "# 교차 엔트로피 오차\n",
    "def cross_entropy_error(y, t):\n",
    "    delta = 1e-7\n",
    "    return -np.sum(t * np.log(y + delta))"
   ]
  },
  {
   "cell_type": "markdown",
   "metadata": {},
   "source": [
    "- 모든 데이터에 대한 손실함수를 구할때는 데이터 사이즈에 대한 평균손실함수를 이용하면, 데이터 사이즈에 무관한 통일된 지표를 얻을 수 있다.\n",
    "- 데이터가 매우 많을 때는 미니배치(mini-batch) 학습을 하는게 효율적이다."
   ]
  },
  {
   "cell_type": "code",
   "execution_count": 4,
   "metadata": {},
   "outputs": [],
   "source": [
    "import pickle\n",
    "from mnist import load_mnist\n",
    "from PIL import Image\n",
    "from IPython.display import display"
   ]
  },
  {
   "cell_type": "code",
   "execution_count": 5,
   "metadata": {},
   "outputs": [
    {
     "name": "stdout",
     "output_type": "stream",
     "text": [
      "(60000, 784)\n",
      "(60000, 10)\n"
     ]
    }
   ],
   "source": [
    "# 디폴트 설정으로 flatten=True이다.\n",
    "one_hot_label = True\n",
    "(x_train, t_train), (x_test, t_test) = load_mnist(normalize=True, one_hot_label=one_hot_label)\n",
    "print(x_train.shape)\n",
    "print(t_train.shape)"
   ]
  },
  {
   "cell_type": "code",
   "execution_count": 6,
   "metadata": {},
   "outputs": [],
   "source": [
    "# 미니배치 학습을 위해 무작위로 특정 갯수의 데이터를 뽑는다.\n",
    "train_size = x_train.shape[0]\n",
    "batch_size = 10\n",
    "batch_mask = np.random.choice(train_size, batch_size)\n",
    "x_batch = x_train[batch_mask]\n",
    "t_batch = t_train[batch_mask]"
   ]
  },
  {
   "cell_type": "code",
   "execution_count": 7,
   "metadata": {},
   "outputs": [
    {
     "name": "stdout",
     "output_type": "stream",
     "text": [
      "(10, 784) (10, 10)\n"
     ]
    }
   ],
   "source": [
    "# 데이터가 지정한 갯수만큼 무작위로 뽑혔음을 알 수 있다.\n",
    "print(x_batch.shape, t_batch.shape)"
   ]
  },
  {
   "cell_type": "code",
   "execution_count": 8,
   "metadata": {},
   "outputs": [],
   "source": [
    "# 미니배치 학습을 위한 교차 엔트로피 오차\n",
    "def cross_entropy_error(y, t):\n",
    "    # mini-batch size가 1일때도 일관성이 있도록 모양을 2차원으로 다시 잡아준다.\n",
    "    if y.ndim == 1:\n",
    "        t = t.reshape(1, t.size)\n",
    "        y = y.reshape(1, y.size)\n",
    "\n",
    "    batch_size = y.shape[0]\n",
    "    delta = 1e-7\n",
    "\n",
    "    if one_hot_label:\n",
    "        return -np.sum(t * np.log(y + delta)) / batch_size\n",
    "    # one_hot_label=False일 때, 예측 y는 여전히 one_hot_encoding이지만 레이블 t는 2, 7과 같은 숫자가 된다.\n",
    "    else:\n",
    "        return -np.sum(np.log(y[np.arange(batch_size), t] + delta)) / batch_size"
   ]
  },
  {
   "cell_type": "code",
   "execution_count": 9,
   "metadata": {},
   "outputs": [
    {
     "data": {
      "text/plain": [
       "array([2, 5, 8])"
      ]
     },
     "execution_count": 9,
     "metadata": {},
     "output_type": "execute_result"
    }
   ],
   "source": [
    "# 위에서 나온 이중 인덱스의 이해를 위한 코드\n",
    "y = np.array([[1,2,3], [4,5,6], [7,8,9]])\n",
    "y[np.arange(y.shape[0]),1]"
   ]
  },
  {
   "cell_type": "markdown",
   "metadata": {},
   "source": [
    "#### NOTE ) 손실함수, 활성화함수의 조건\n",
    "- 손실함수는 매개변수 크기의 증가/감소의 지표가 되므로, 매개변수값의 변화에 예민하게 변화하는 것이어야 한다.\n",
    "- 은닉층의 활성화함수가 계단함수일 경우, 매개변수의 작은 크기변화를 뭉게버려 출력 신호값에 전혀 영향이 없게 되고 최종적으로 손실함수에도 변화가 없다.\n",
    "- 따라서, 퍼셉트론에서 다뤘던 계단함수는 활성화함수로 이용할 수 없다.\n",
    "- 시그모이드 함수, ReLU 함수와 같이 기울기가 0이 아닌 함수, 즉 입력값이 변하면 출력값도 변하는 함수를 활성화 함수로 사용해야 한다.\n",
    "- 물론 시그모이드 함수도 양극단에서 기울기가 0으로 수렴해 문제되기도 하고, ReLU 함수도 음수 영역에서 기울기가 0이므로 죽은 뉴런이 나오기도 한다는 점을 알아두자."
   ]
  },
  {
   "cell_type": "markdown",
   "metadata": {},
   "source": [
    "### 경사강하법(Gradient Descent Method)"
   ]
  },
  {
   "cell_type": "markdown",
   "metadata": {},
   "source": [
    "- 특정 매개변수 값에서의 손실함수의 기울기(Gradient)값을 이용하여 매개변수를 조정한다.\n",
    "- 학습률(learning rate) : 한번의 학습을 통해 매개변수를 갱신하는 양"
   ]
  },
  {
   "cell_type": "code",
   "execution_count": 10,
   "metadata": {},
   "outputs": [],
   "source": [
    "# 수치 미분(Numerical Differentiation)\n",
    "def numerical_diff(f, x):    # 전방 차분\n",
    "    h = 10e-50\n",
    "    return (f(x+h) - f(x)) / h\n",
    "\n",
    "def numerical_diff(f, x):    # 중앙차분 or 중심차분 (전방차분보다 더 정확도가 높다.)\n",
    "    h = 10e-50\n",
    "    return (f(x+h) - f(x-h)) / (2*h)"
   ]
  },
  {
   "cell_type": "code",
   "execution_count": 11,
   "metadata": {},
   "outputs": [],
   "source": [
    "# 기울기(Gradient)\n",
    "def numerical_gradient(f, x):\n",
    "    h = 1e-4 # 0.0001\n",
    "    grad = np.zeros_like(x) # x와 형상이 같은 배열을 생성\n",
    "    \n",
    "    for idx in range(x.size):\n",
    "        tmp_val = x[idx]\n",
    "        \n",
    "        # f(x+h) 계산\n",
    "        x[idx] = tmp_val + h\n",
    "        fxh1 = f(x)\n",
    "        \n",
    "        # f(x-h) 계산\n",
    "        x[idx] = tmp_val - h \n",
    "        fxh2 = f(x) \n",
    "        \n",
    "        grad[idx] = (fxh1 - fxh2) / (2*h)\n",
    "        x[idx] = tmp_val # 값 복원\n",
    "        \n",
    "    return grad"
   ]
  },
  {
   "cell_type": "markdown",
   "metadata": {},
   "source": [
    "#### NOTE ) 기울기가 가리키는 쪽은 각 장소에서 함수의 출력 값을 가장 크게 줄이는 방향 !"
   ]
  },
  {
   "cell_type": "markdown",
   "metadata": {},
   "source": [
    "- 기울기가 반드시 최솟값을 가리키는 것은 아니다. 극솟값이나 안장점을 가리킬 가능성도 있다.\n",
    "- 손실함수가 복잡하고 찌그러진 모양이라면 평평한 곳으로 파고들면서 \"고원(plateau)\"이라 하는, 학습이 진행되지 않는 정체기에 빠질 수 있다."
   ]
  },
  {
   "cell_type": "code",
   "execution_count": 12,
   "metadata": {},
   "outputs": [],
   "source": [
    "# 경사 하강법\n",
    "# lr : 학습률(learning rate)을 의미\n",
    "def gradient_descent(f, init_x, lr=0.01, step_num=100):\n",
    "    x = init_x\n",
    "    for i in range(step_num):\n",
    "        grad = numerical_gradient(f, x)\n",
    "        x -= lr * grad\n",
    "\n",
    "    return x"
   ]
  },
  {
   "cell_type": "code",
   "execution_count": 13,
   "metadata": {},
   "outputs": [
    {
     "data": {
      "image/png": "[encoded data removed]",
      "text/plain": [
       "<Figure size 432x288 with 1 Axes>"
      ]
     },
     "metadata": {
      "needs_background": "light"
     },
     "output_type": "display_data"
    }
   ],
   "source": [
    "# 경사강하법의 시각화\n",
    "# 예시 함수\n",
    "def function_2(x):\n",
    "    return x[0]**2 + x[1]**2\n",
    "\n",
    "def gradient_descent_with_history(f, init_x, lr=0.01, step_num=100):\n",
    "    x = init_x\n",
    "    x_history = []\n",
    "    for i in range(step_num):\n",
    "        x_history.append( x.copy() ) # copy 이용(x가 업데이트돼도 x_history에 담긴 데이터엔 영향이 없도록 하기 위함)\n",
    "        grad = numerical_gradient(f, x)\n",
    "        x -= lr * grad\n",
    "    return x, np.array(x_history)\n",
    "\n",
    "init_x = np.array([-3.0, 4.0])    \n",
    "lr = 0.1\n",
    "step_num = 20\n",
    "x, x_history = gradient_descent_with_history(function_2, init_x, lr=lr, step_num=step_num)\n",
    "\n",
    "for radius in range(1,4):\n",
    "    round_x = np.arange(-radius, radius+0.01, 0.01)\n",
    "    round_y = np.sqrt(np.abs(radius**2 - round_x**2))\n",
    "    plt.plot(round_x, round_y, \"--\", color=\"black\")\n",
    "    plt.plot(round_x, -round_y, \"--\", color=\"black\")\n",
    "\n",
    "plt.plot( [-5, 5], [0,0], '-', color=\"black\")\n",
    "plt.plot( [0,0], [-5, 5], '-', color=\"black\")\n",
    "plt.plot(x_history[:,0], x_history[:,1], 'o', color=\"red\")\n",
    "\n",
    "plt.xlim(-3.5, 3.5)\n",
    "plt.ylim(-4.5, 4.5)\n",
    "plt.xlabel(\"X0\")\n",
    "plt.ylabel(\"X1\")\n",
    "plt.grid()\n",
    "plt.show()"
   ]
  },
  {
   "cell_type": "markdown",
   "metadata": {},
   "source": [
    "- 학습률과 같이 사람이 직접 설정해야 하는 매개변수를 하이퍼파라미터(hyper parameter)라고 한다.\n",
    "- 적절한 크기의 학습률을 결정하는 것이 중요하다."
   ]
  },
  {
   "cell_type": "code",
   "execution_count": 14,
   "metadata": {},
   "outputs": [],
   "source": [
    "# 다차원 배열에 적용가능한 소프트맥스 함수 정의\n",
    "def softmax(x):\n",
    "    x = x.T    # x.ndim==2 일때도 일관성있기 처리하기 위해 transpose를 취한다.\n",
    "    exp_x = np.exp(x - np.max(x, axis=0))\n",
    "    sum_exp_x = np.sum(exp_x, axis=0)\n",
    "    y = exp_x / sum_exp_x\n",
    "    return y.T"
   ]
  },
  {
   "cell_type": "code",
   "execution_count": 15,
   "metadata": {},
   "outputs": [],
   "source": [
    "# 간단한 신경망의 예시\n",
    "# 많은 신경망들이 다음과 같은 전형적인 클래스 구조로 정의된다.\n",
    "class simpleNet:\n",
    "    def __init__(self):\n",
    "        self.W = np.random.randn(2,3) # 정규분포로 초기화\n",
    "\n",
    "    def predict(self, x):\n",
    "        return np.dot(x, self.W)\n",
    "\n",
    "    def loss(self, x, t):\n",
    "        z = self.predict(x)\n",
    "        y = softmax(z)\n",
    "        loss = cross_entropy_error(y, t)\n",
    "        return loss"
   ]
  },
  {
   "cell_type": "code",
   "execution_count": 16,
   "metadata": {},
   "outputs": [
    {
     "name": "stdout",
     "output_type": "stream",
     "text": [
      "[[ 0.81912823 -0.07298324  0.82407858]\n",
      " [ 0.76748697 -0.25125451 -0.10268035]]\n"
     ]
    }
   ],
   "source": [
    "net = simpleNet()\n",
    "print(net.W)"
   ]
  },
  {
   "cell_type": "code",
   "execution_count": 17,
   "metadata": {},
   "outputs": [
    {
     "name": "stdout",
     "output_type": "stream",
     "text": [
      "[ 1.18221522 -0.269919    0.40203483]\n",
      "0\n"
     ]
    }
   ],
   "source": [
    "x = np.array([0.6, 0.9])\n",
    "p = net.predict(x)\n",
    "print(p)\n",
    "print(np.argmax(p))"
   ]
  },
  {
   "cell_type": "code",
   "execution_count": 18,
   "metadata": {},
   "outputs": [
    {
     "name": "stdout",
     "output_type": "stream",
     "text": [
      "1.3063238316726535\n"
     ]
    }
   ],
   "source": [
    "one_hot_label = True    # cross_entroy_error 함수에서 필요하다.\n",
    "t = np.array([0, 0, 1])\n",
    "print(net.loss(x, t))"
   ]
  },
  {
   "cell_type": "code",
   "execution_count": 19,
   "metadata": {},
   "outputs": [],
   "source": [
    "# numerical_gradient함수의 일관성있는 적용을 위해 별도로 f 함수 정의\n",
    "# W는 dummy variable이다.\n",
    "# x와 t는 위에서 np.array([0.6, 0.9])와 np.array([0, 0, 1])로 정의했다.\n",
    "f = lambda W: net.loss(x, t)    # 간단한 함수의 정의는 lambda 이용\n",
    "\n",
    "\n",
    "# 앞에서 정의한 것과 달리, x가 다차원배열이 될 수 있으므로 그 부분을 처리할 수 있게 코드수정!\n",
    "def numerical_gradient(f, x):\n",
    "    h = 1e-4 # 0.0001\n",
    "    grad = np.zeros_like(x)\n",
    "    \n",
    "    it = np.nditer(x, flags=['multi_index'], op_flags=['readwrite'])\n",
    "    while not it.finished:\n",
    "        idx = it.multi_index\n",
    "        tmp_val = x[idx]\n",
    "        x[idx] = float(tmp_val) + h\n",
    "        fxh1 = f(x) # f(x+h)\n",
    "        \n",
    "        x[idx] = tmp_val - h \n",
    "        fxh2 = f(x) # f(x-h)\n",
    "        grad[idx] = (fxh1 - fxh2) / (2*h)\n",
    "        \n",
    "        x[idx] = tmp_val # 값 복원\n",
    "        it.iternext()   \n",
    "        \n",
    "    return grad"
   ]
  },
  {
   "cell_type": "code",
   "execution_count": 20,
   "metadata": {},
   "outputs": [
    {
     "name": "stdout",
     "output_type": "stream",
     "text": [
      "[[ 0.35452734  0.08298428 -0.43751163]\n",
      " [ 0.53179101  0.12447643 -0.65626744]]\n"
     ]
    }
   ],
   "source": [
    "dW = numerical_gradient(f, net.W)\n",
    "print(dW)"
   ]
  },
  {
   "cell_type": "code",
   "execution_count": 21,
   "metadata": {},
   "outputs": [
    {
     "name": "stdout",
     "output_type": "stream",
     "text": [
      "[[10 20 30 40]\n",
      " [50 60 70 80]] \n",
      "\n",
      "A.shape ==  (2, 4) \n",
      "\n",
      "current value =>  10\n",
      "current value =>  20\n",
      "current value =>  30\n",
      "current value =>  40\n",
      "current value =>  50\n",
      "current value =>  60\n",
      "current value =>  70\n",
      "current value =>  80\n"
     ]
    }
   ],
   "source": [
    "# 위에서 np.nditer 관련하여 조사한 것\n",
    "A = np.array([[10, 20, 30, 40], [50, 60, 70, 80]])\n",
    "\n",
    "print(A, \"\\n\")\n",
    "print(\"A.shape == \", A.shape, \"\\n\")\n",
    "\n",
    "it = np.nditer(A, flags=['multi_index'], op_flags=['readwrite'])\n",
    "while not it.finished:\n",
    "    idx = it.multi_index\n",
    "    print(\"current value => \", A[idx])\n",
    "    it.iternext()"
   ]
  },
  {
   "cell_type": "markdown",
   "metadata": {},
   "source": [
    "### 학습 알고리즘 구현"
   ]
  },
  {
   "cell_type": "markdown",
   "metadata": {},
   "source": [
    "1. 미니배치, 즉 훈련 데이터 중 일부를 무작위로 가져온다.\n",
    "2. 현재 매개변수에 대한 손실함수의 기울기를 산출해서 손실함수의 값을 가장 작게 하는 방향을 구한다.\n",
    "3. 위에서 구한 방향으로 매개변수(가중치, 편향)을 아주 조금 갱신한다.\n",
    "4. 1~3단계 반복"
   ]
  },
  {
   "cell_type": "markdown",
   "metadata": {},
   "source": [
    "- 확률적 경사 하강법(SGD, Stochastic Gradient Descent) : 확률적으로 무작위로 선정한 데이터에 대해 수행하는 경사 하강법\n",
    "- 수치미분을 이용한 학습과 오차역전파법을 이용한 학습을 비교"
   ]
  },
  {
   "cell_type": "markdown",
   "metadata": {},
   "source": [
    "#### 오차역전파법을 위한 계층 정의 "
   ]
  },
  {
   "cell_type": "code",
   "execution_count": 22,
   "metadata": {},
   "outputs": [],
   "source": [
    "# 4-BackwardPropagation.ipynb의 오차역전파법 설명 참조\n",
    "\n",
    "# ReLU 노드에서의 순전파와 역전파\n",
    "# 순전파에서의 입력이 0보다 작거나 같았을때, 역전파에서의 출력은 0이 된다.\n",
    "class Relu:\n",
    "    def __init_(self):\n",
    "        self.mask = None\n",
    "        \n",
    "    def forward(self, x):\n",
    "        self.mask = (x <= 0)\n",
    "        out = x.copy()\n",
    "        out[self.mask] = 0\n",
    "        return out\n",
    "    \n",
    "    def backward(self, dout):\n",
    "        dout[self.mask] = 0\n",
    "        dx = dout\n",
    "        return dx\n",
    "\n",
    "# Affine 계층\n",
    "# 직접 손으로 풀어서 계산해서 이해해볼 것!\n",
    "class Affine:\n",
    "    def __init__(self, W, b):\n",
    "        self.W = W\n",
    "        self.b = b\n",
    "        self.x = None\n",
    "        self.original_x_shape = None\n",
    "        # 가중치와 편향 매개변수의 미분\n",
    "        self.dW = None\n",
    "        self.db = None\n",
    "\n",
    "    def forward(self, x):\n",
    "        # 텐서 대응 (3차 이상 다차원텐서에 대비한 것 ex:MNIST)\n",
    "        self.original_x_shape = x.shape\n",
    "        x = x.reshape(x.shape[0], -1)\n",
    "        self.x = x\n",
    "        out = np.dot(self.x, self.W) + self.b\n",
    "        return out\n",
    "\n",
    "    def backward(self, dout):\n",
    "        dx = np.dot(dout, self.W.T)\n",
    "        self.dW = np.dot(self.x.T, dout)\n",
    "        self.db = np.sum(dout, axis=0)\n",
    "        # self.original_x_shape 앞의 \"*\" 는 unpacking 기능! \n",
    "        dx = dx.reshape(*self.original_x_shape)  # 입력 데이터 모양 변경(텐서 대응)\n",
    "        return dx\n",
    "\n",
    "# Softmax-with-Loss 계층\n",
    "# 이 계층의 (역전파)출력값은 Softmax의 (순전파)출력값과 정답 레이블(one-hot encoding)의 차분이다.\n",
    "# 회귀(regression)도 결과가 위와 같다.\n",
    "class SoftmaxWithLoss:\n",
    "    def __init__(self):\n",
    "        self.loss = None  # 손실함수\n",
    "        self.y = None     # softmax의 출력\n",
    "        self.t = None     # 정답 레이블(원-핫 인코딩 형태)\n",
    "\n",
    "    def forward(self, x, t):\n",
    "        self.t = t\n",
    "        self.y = softmax(x)\n",
    "        self.loss = cross_entropy_error(self.y, self.t)\n",
    "        return self.loss\n",
    "    \n",
    "    def backward(self, dout=1):\n",
    "        batch_size = self.t.shape[0]\n",
    "        if self.t.size == self.y.size:  # 정답 레이블이 원-핫 인코딩 형태일 때\n",
    "            dx = (self.y - self.t) / batch_size\n",
    "        else:\n",
    "            dx = self.y.copy()\n",
    "            dx[np.arange(batch_size), self.t] -= 1\n",
    "            dx = dx / batch_size\n",
    "        return dx"
   ]
  },
  {
   "cell_type": "markdown",
   "metadata": {},
   "source": [
    "#### MNIST 학습을 위한 신경망 구성"
   ]
  },
  {
   "cell_type": "markdown",
   "metadata": {},
   "source": [
    "- numerical_gradient 메소드는 수치미분을 이용해 기울기를 구하고, gradient 메소드는 오차역전파법을 이용해 기울기를 구한다.\n",
    "- 4-BackwardPropagation.ipynb의 오차역전파법 설명 참조"
   ]
  },
  {
   "cell_type": "code",
   "execution_count": 23,
   "metadata": {},
   "outputs": [],
   "source": [
    "# 2층 신경망 구성\n",
    "# 수치미분 방식과 오차역전파법을 이용한 방식을 비교하며 살펴볼 것! (Comment out 처리된 코드들은 수치미분할 때 이용되는 부분이다.)\n",
    "from collections import OrderedDict\n",
    "\n",
    "class TwoLayerNet:\n",
    "\n",
    "    def __init__(self, input_size, hidden_size, output_size, weight_init_std=0.01):\n",
    "        # 매개변수 초기화\n",
    "        # 초기화에 따라서도 신경망 학습의 성공이 좌우된다. 우선은 가중치는 정규분포로, 편향은 0을 초기화한다.\n",
    "        # weight_init_std=0.01에 관해서는 Xavier Glorot, Yoshua Bengio 논문 참조\n",
    "        # http://proceedings.mlr.press/v9/glorot10a/glorot10a.pdf\n",
    "        self.params = {}\n",
    "        self.params['W1'] = weight_init_std * np.random.randn(input_size, hidden_size)\n",
    "        self.params['b1'] = np.zeros(hidden_size)\n",
    "        self.params['W2'] = weight_init_std * np.random.randn(hidden_size, output_size)\n",
    "        self.params['b2'] = np.zeros(output_size)\n",
    "\n",
    "        # 계층 생성\n",
    "        # 순서가 있는 딕셔너리 사용\n",
    "        self.layers = OrderedDict()\n",
    "        self.layers['Affine1'] = Affine(self.params['W1'], self.params['b1'])\n",
    "        self.layers['Relu1'] = Relu()\n",
    "        self.layers['Affine2'] = Affine(self.params['W2'], self.params['b2'])\n",
    "        self.lastLayer = SoftmaxWithLoss()\n",
    "        \n",
    "    def predict(self, x):\n",
    "        # W1, W2 = self.params['W1'], self.params['W2']\n",
    "        # b1, b2 = self.params['b1'], self.params['b2']\n",
    "    \n",
    "        # a1 = np.dot(x, W1) + b1\n",
    "        # z1 = sigmoid(a1)\n",
    "        # a2 = np.dot(z1, W2) + b2\n",
    "        # y = softmax(a2)\n",
    "        # return y\n",
    "        \n",
    "        for layer in self.layers.values():\n",
    "            x = layer.forward(x)\n",
    "        return x\n",
    "        \n",
    "    # x : 입력 데이터, t : 정답 레이블\n",
    "    def loss(self, x, t):\n",
    "        y = self.predict(x)   # 여기까지는 score를 구한 것(Softmax 함수를 적용하기 전)\n",
    "        # return cross_entropy_error(y, t)\n",
    "        return self.lastLayer.forward(y, t)\n",
    "    \n",
    "    def accuracy(self, x, t):\n",
    "        y = self.predict(x)\n",
    "        y = np.argmax(y, axis=1)\n",
    "        if t.ndim != 1: t = np.argmax(t, axis=1)   # one-hot encoding의 경우\n",
    "        accuracy = np.sum(y == t) / float(x.shape[0])\n",
    "        return accuracy\n",
    "    \n",
    "    # 수치미분을 이용하여 기울기를 구한다.\n",
    "    def numerical_gradient(self, x, t):\n",
    "        loss_W = lambda W: self.loss(x, t)\n",
    "        \n",
    "        grads = {}\n",
    "        grads['W1'] = numerical_gradient(loss_W, self.params['W1'])  # 메소드와 이름이 같지만 헷갈리지 말 것!\n",
    "        grads['b1'] = numerical_gradient(loss_W, self.params['b1'])\n",
    "        grads['W2'] = numerical_gradient(loss_W, self.params['W2'])\n",
    "        grads['b2'] = numerical_gradient(loss_W, self.params['b2'])\n",
    "        return grads\n",
    "    \n",
    "    # 오차역전파법을 이용하여 기울기를 구한다.\n",
    "    def gradient(self, x, t):\n",
    "        # forward\n",
    "        # 먼저 forward 전파를 실행해야, self.lastLayer.y, self.lastLayer.t 등의 값이 정해지고,\n",
    "        # 이후 backward 전파가 가능하다.\n",
    "        self.loss(x, t)\n",
    "\n",
    "        # backward\n",
    "        dout = 1\n",
    "        dout = self.lastLayer.backward(dout)\n",
    "        \n",
    "        layers = list(self.layers.values())\n",
    "        layers.reverse()   # 역전파시, 계층의 적용순서를 반대로 해야한다.\n",
    "        for layer in layers:\n",
    "            dout = layer.backward(dout)\n",
    "\n",
    "        # 결과 저장\n",
    "        # self.layers['Affine'] 는 다시 Affine 클래스의 인스턴스이다.\n",
    "        grads = {}\n",
    "        grads['W1'], grads['b1'] = self.layers['Affine1'].dW, self.layers['Affine1'].db\n",
    "        grads['W2'], grads['b2'] = self.layers['Affine2'].dW, self.layers['Affine2'].db\n",
    "\n",
    "        return grads"
   ]
  },
  {
   "cell_type": "markdown",
   "metadata": {},
   "source": [
    "#### 기울기 확인(gradient check) "
   ]
  },
  {
   "cell_type": "markdown",
   "metadata": {},
   "source": [
    "- 오차역전파법은 빠른 연산이 가능한 대신에, 구현할 때 실수가 있을 확률이 높다.\n",
    "- 따라서 보다 직관적이고 구현하기 쉬운 수치미분의 결과와 비교하는 \"기울기 확인\" 작업이 필요하다."
   ]
  },
  {
   "cell_type": "code",
   "execution_count": 24,
   "metadata": {},
   "outputs": [
    {
     "name": "stdout",
     "output_type": "stream",
     "text": [
      "W1:3.0283253207596796e-08\n",
      "b1:2.1795208791336234e-07\n",
      "W2:5.6878105567705215e-09\n",
      "b2:1.405925526526408e-07\n"
     ]
    }
   ],
   "source": [
    "network = TwoLayerNet(input_size=784, hidden_size=50, output_size=10)\n",
    "\n",
    "# 데이터 세개만 추출\n",
    "x_batch = x_train[:3]\n",
    "t_batch = t_train[:3]\n",
    "\n",
    "grad_numerical = network.numerical_gradient(x_batch, t_batch)\n",
    "grad_backprop = network.gradient(x_batch, t_batch)\n",
    "\n",
    "# 각 가중치의 절대 오차의 평균을 구한다.\n",
    "for key in grad_numerical.keys():\n",
    "    diff = np.average( np.abs(grad_backprop[key] - grad_numerical[key]) )\n",
    "    print(key + \":\" + str(diff))"
   ]
  },
  {
   "cell_type": "markdown",
   "metadata": {},
   "source": [
    "####  MNIST 학습 시행"
   ]
  },
  {
   "cell_type": "markdown",
   "metadata": {},
   "source": [
    "- numerical_gradient 메소드는 수치미분을 이용해 기울기를 구하고, gradient 메소드는 오차역전파법을 이용해 기울기를 구한다."
   ]
  },
  {
   "cell_type": "code",
   "execution_count": 25,
   "metadata": {},
   "outputs": [
    {
     "name": "stdout",
     "output_type": "stream",
     "text": [
      "train acc, test acc | 0.12261666666666667, 0.1241\n",
      "train acc, test acc | 0.9058, 0.9085\n",
      "train acc, test acc | 0.922, 0.9239\n",
      "train acc, test acc | 0.9346, 0.9334\n",
      "train acc, test acc | 0.9455333333333333, 0.9427\n",
      "train acc, test acc | 0.9509333333333333, 0.9484\n",
      "train acc, test acc | 0.9578, 0.9547\n",
      "train acc, test acc | 0.9608833333333333, 0.9586\n",
      "train acc, test acc | 0.96415, 0.9592\n",
      "train acc, test acc | 0.9669333333333333, 0.9628\n",
      "train acc, test acc | 0.96895, 0.9613\n",
      "train acc, test acc | 0.9706333333333333, 0.9639\n",
      "train acc, test acc | 0.9714166666666667, 0.9641\n",
      "train acc, test acc | 0.9747, 0.9653\n",
      "train acc, test acc | 0.9752833333333333, 0.9666\n",
      "train acc, test acc | 0.97685, 0.9686\n",
      "train acc, test acc | 0.9779666666666667, 0.9692\n"
     ]
    },
    {
     "data": {
      "image/png": "[encoded data removed]",
      "text/plain": [
       "<Figure size 432x288 with 1 Axes>"
      ]
     },
     "metadata": {
      "needs_background": "light"
     },
     "output_type": "display_data"
    }
   ],
   "source": [
    "# MNIST 데이터셋에의 적용\n",
    "\n",
    "network = TwoLayerNet(input_size=784, hidden_size=50, output_size=10)\n",
    "\n",
    "# 하이퍼파라미터\n",
    "iters_num = 10000  # 반복 횟수를 적절히 설정한다.\n",
    "train_size = x_train.shape[0]\n",
    "batch_size = 100   # 미니배치 크기\n",
    "learning_rate = 0.1\n",
    "\n",
    "train_loss_list = []\n",
    "train_acc_list = []\n",
    "test_acc_list = []\n",
    "\n",
    "# 1에폭당 반복 수\n",
    "iter_per_epoch = max(train_size / batch_size, 1)\n",
    "\n",
    "for i in range(iters_num):\n",
    "    # 미니배치 획득\n",
    "    batch_mask = np.random.choice(train_size, batch_size)\n",
    "    x_batch = x_train[batch_mask]\n",
    "    t_batch = t_train[batch_mask]\n",
    "    \n",
    "    ## 기울기 계산\n",
    "    # 수치미분을 이용한 방법\n",
    "    # grad = network.numerical_gradient(x_batch, t_batch)\n",
    "    # 오차역전파법을 이용한 방법 \n",
    "    grad = network.gradient(x_batch, t_batch)\n",
    "    \n",
    "    # 매개변수 갱신\n",
    "    for key in ('W1', 'b1', 'W2', 'b2'):\n",
    "        network.params[key] -= learning_rate * grad[key]\n",
    "    \n",
    "    # 학습 경과 기록\n",
    "    loss = network.loss(x_batch, t_batch)\n",
    "    train_loss_list.append(loss)\n",
    "    \n",
    "    # 1에폭당 정확도 계산\n",
    "    if i % iter_per_epoch == 0:\n",
    "        train_acc = network.accuracy(x_train, t_train)\n",
    "        test_acc = network.accuracy(x_test, t_test)\n",
    "        train_acc_list.append(train_acc)\n",
    "        test_acc_list.append(test_acc)\n",
    "        print(\"train acc, test acc | \" + str(train_acc) + \", \" + str(test_acc))\n",
    "\n",
    "# 그래프 그리기\n",
    "markers = {'train': 'o', 'test': 's'}\n",
    "x = np.arange(len(train_acc_list))\n",
    "plt.plot(x, train_acc_list, label='train acc')\n",
    "plt.plot(x, test_acc_list, label='test acc', linestyle='--')\n",
    "plt.xlabel(\"epochs\")\n",
    "plt.ylabel(\"accuracy\")\n",
    "plt.ylim(0, 1.0)\n",
    "plt.grid()\n",
    "plt.legend(loc='lower right')\n",
    "plt.show()"
   ]
  }
 ],
 "metadata": {
  "kernelspec": {
   "display_name": "Python 3",
   "language": "python",
   "name": "python3"
  },
  "language_info": {
   "codemirror_mode": {
    "name": "ipython",
    "version": 3
   },
   "file_extension": ".py",
   "mimetype": "text/x-python",
   "name": "python",
   "nbconvert_exporter": "python",
   "pygments_lexer": "ipython3",
   "version": "3.6.5"
  }
 },
 "nbformat": 4,
 "nbformat_minor": 2
}
