{
 "cells": [
  {
   "cell_type": "code",
   "execution_count": 1,
   "metadata": {},
   "outputs": [
    {
     "data": {
      "application/javascript": [
       "//https://stackoverflow.com/questions/30367591/how-to-add-external-javascript-file-in-ipython-notebook\n",
       "\n",
       "window.get_element = function(el){\n",
       "    if(el){ $(el).html('') }\n",
       "    return (el !== undefined) ? el[0] : $('script').last().parent()[0];\n",
       "};\n",
       "\n",
       "element = undefined;"
      ],
      "text/plain": [
       "<IPython.core.display.Javascript object>"
      ]
     },
     "metadata": {},
     "output_type": "display_data"
    }
   ],
   "source": [
    "%%javascript\n",
    "//https://stackoverflow.com/questions/30367591/how-to-add-external-javascript-file-in-ipython-notebook\n",
    "\n",
    "window.get_element = function(el){\n",
    "    if(el){ $(el).html('') }\n",
    "    return (el !== undefined) ? el[0] : $('script').last().parent()[0];\n",
    "};\n",
    "\n",
    "element = undefined;"
   ]
  },
  {
   "cell_type": "code",
   "execution_count": 25,
   "metadata": {},
   "outputs": [
    {
     "data": {
      "application/javascript": [
       "//https://stackoverflow.com/questions/30367591/how-to-add-external-javascript-file-in-ipython-notebook\n",
       "\n",
       "requirejs.config({\n",
       "    paths: { \n",
       "        'd3': ['//cdnjs.cloudflare.com/ajax/libs/d3/3.5.6/d3'], \n",
       "        // strip .js ^, require adds it back\n",
       "    },\n",
       "});\n",
       "\n",
       "(function(){\n",
       "    var targetElement = get_element(element);\n",
       "    \n",
       "    require(['d3'], function(d3) {\n",
       "        //console.log(\"Loaded :)\");   \n",
       "        //<input type=\"range\" min=\"0\" max=\"100\" value=\"0\" step=\"5\" onchange=\"showValue(this.value)\" />\n",
       "        \n",
       "        var data = [1, 2, 3, 4, 5, 6, 10]\n",
       "        var svg = d3.select(targetElement).append('svg')\n",
       "                .attr('width', '350px')\n",
       "                .attr('height', '100px')\n",
       "                .style('border', '1px solid lightgray');\n",
       "\n",
       "        svg.selectAll('circle')\n",
       "                .data(data)\n",
       "                .enter()\n",
       "                .append('circle')\n",
       "                .style('fill', 'skyblue')\n",
       "                .attr('cx', function(d, i){ return i * (350/data.length) + 15})\n",
       "                .attr('cy', '50px')\n",
       "                .attr('r', function(d){ return d * 3})\n",
       "        \n",
       "        $(targetElement).append(\n",
       "            $(\"<script> function showValue(v) { console.log(\\\"show\\\"); $(\\\".mu\\\").text(v); } </script>\")\n",
       "        );\n",
       "        $(targetElement).append($(\"<div class=\\\"mu\\\">0</div>\"));\n",
       "        $(targetElement).append($(\"<input type=\\\"range\\\" min=\\\"0\\\" max=\\\"100\\\" value=\\\"0\\\" step=\\\"1\\\" onchange=\\\"showValue(this.value)\\\" />\"));\n",
       "        \n",
       "        return {};\n",
       "    });\n",
       "})()"
      ],
      "text/plain": [
       "<IPython.core.display.Javascript object>"
      ]
     },
     "metadata": {},
     "output_type": "display_data"
    }
   ],
   "source": [
    "%%javascript\n",
    "//https://stackoverflow.com/questions/30367591/how-to-add-external-javascript-file-in-ipython-notebook\n",
    "\n",
    "requirejs.config({\n",
    "    paths: { \n",
    "        'd3': ['//cdnjs.cloudflare.com/ajax/libs/d3/3.5.6/d3'], \n",
    "        // strip .js ^, require adds it back\n",
    "    },\n",
    "});\n",
    "\n",
    "(function(){\n",
    "    var targetElement = get_element(element);\n",
    "    \n",
    "    require(['d3'], function(d3) {\n",
    "        //console.log(\"Loaded :)\");   \n",
    "        //<input type=\"range\" min=\"0\" max=\"100\" value=\"0\" step=\"5\" onchange=\"showValue(this.value)\" />\n",
    "        \n",
    "        var data = [1, 2, 3, 4, 5, 6, 10]\n",
    "        var svg = d3.select(targetElement).append('svg')\n",
    "                .attr('width', '350px')\n",
    "                .attr('height', '100px')\n",
    "                .style('border', '1px solid lightgray');\n",
    "\n",
    "        svg.selectAll('circle')\n",
    "                .data(data)\n",
    "                .enter()\n",
    "                .append('circle')\n",
    "                .style('fill', 'skyblue')\n",
    "                .attr('cx', function(d, i){ return i * (350/data.length) + 15})\n",
    "                .attr('cy', '50px')\n",
    "                .attr('r', function(d){ return d * 3})\n",
    "        \n",
    "        $(targetElement).append(\n",
    "            $(\"<script> function showValue(v) { console.log(\\\"show\\\"); $(\\\".mu\\\").text(v); } </script>\")\n",
    "        );\n",
    "        $(targetElement).append($(\"<div class=\\\"mu\\\">0</div>\"));\n",
    "        $(targetElement).append($(\"<input type=\\\"range\\\" min=\\\"0\\\" max=\\\"100\\\" value=\\\"0\\\" step=\\\"1\\\" onchange=\\\"showValue(this.value)\\\" />\"));\n",
    "        \n",
    "        return {};\n",
    "    });\n",
    "})()"
   ]
  },
  {
   "cell_type": "code",
   "execution_count": 23,
   "metadata": {},
   "outputs": [
    {
     "data": {
      "text/html": [
       "<link href='https://fonts.googleapis.com/earlyaccess/nanummyeongjo.css' rel='stylesheet' type='text/css'>\n",
       "<link href='http://fonts.googleapis.com/earlyaccess/nanumgothiccoding.css' rel='stylesheet' type='text/css'>\n",
       "<link href='http://fonts.googleapis.com/earlyaccess/notosanskr.css' rel='stylesheet' type='text/css'>\n",
       "<style>\n",
       "    p  { font-family: 'Nanum Myeongjo'; font-size: 12pt; line-height: 200%;  text-indent: 10px; }\n",
       "    li { font-family: 'Nanum Myeongjo'; font-size: 12pt; line-height: 200%; }\n",
       "    li > p { text-indent: 0px; }\n",
       "    code, pre { font-family: 'Nanum Gothic Coding' !important; }\n",
       "    \n",
       "    .code-body { font-family: 'Nanum Gothic Coding'; }\n",
       "    .ns { font-family: 'Noto Sans KR'; font-size: 15pt;}\n",
       "</style>"
      ],
      "text/plain": [
       "<IPython.core.display.HTML object>"
      ]
     },
     "metadata": {},
     "output_type": "display_data"
    }
   ],
   "source": [
    "%%html\n",
    "<link href='https://fonts.googleapis.com/earlyaccess/nanummyeongjo.css' rel='stylesheet' type='text/css'>\n",
    "<link href='http://fonts.googleapis.com/earlyaccess/nanumgothiccoding.css' rel='stylesheet' type='text/css'>\n",
    "<link href='http://fonts.googleapis.com/earlyaccess/notosanskr.css' rel='stylesheet' type='text/css'>\n",
    "<style>\n",
    "    p  { font-family: 'Nanum Myeongjo'; font-size: 12pt; line-height: 200%;  text-indent: 10px; }\n",
    "    li { font-family: 'Nanum Myeongjo'; font-size: 12pt; line-height: 200%; }\n",
    "    li > p { text-indent: 0px; }\n",
    "    code, pre { font-family: 'Nanum Gothic Coding' !important; }\n",
    "    \n",
    "    .code-body { font-family: 'Nanum Gothic Coding'; }\n",
    "    .ns { font-family: 'Noto Sans KR'; font-size: 15pt;}\n",
    "</style>"
   ]
  }
 ],
 "metadata": {
  "kernelspec": {
   "display_name": "Python 3",
   "language": "python",
   "name": "python3"
  },
  "language_info": {
   "codemirror_mode": {
    "name": "ipython",
    "version": 3
   },
   "file_extension": ".py",
   "mimetype": "text/x-python",
   "name": "python",
   "nbconvert_exporter": "python",
   "pygments_lexer": "ipython3",
   "version": "3.5.2"
  }
 },
 "nbformat": 4,
 "nbformat_minor": 2
}
