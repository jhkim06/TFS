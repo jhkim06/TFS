{
 "cells": [
  {
   "cell_type": "markdown",
   "metadata": {},
   "source": [
    "### NBA 경기 결과 예측"
   ]
  },
  {
   "cell_type": "code",
   "execution_count": 1,
   "metadata": {},
   "outputs": [],
   "source": [
    "import os\n",
    "import pandas as pd\n",
    "import numpy as np\n",
    "\n",
    "from collections import defaultdict\n",
    "\n",
    "from sklearn.model_selection import cross_val_score\n",
    "from sklearn.tree import DecisionTreeClassifier\n",
    "from sklearn.preprocessing import LabelEncoder, OneHotEncoder"
   ]
  },
  {
   "cell_type": "code",
   "execution_count": 2,
   "metadata": {},
   "outputs": [],
   "source": [
    "home_folder = os.getcwd()\n",
    "data_folder = os.path.join(home_folder, '../Data/NBA')"
   ]
  },
  {
   "cell_type": "code",
   "execution_count": 3,
   "metadata": {},
   "outputs": [],
   "source": [
    "data_files = ['nba_2015_10.csv', 'nba_2015_11.csv', 'nba_2015_12.csv',\n",
    "              'nba_2016_01.csv', 'nba_2016_02.csv', 'nba_2016_03.csv', \n",
    "              'nba_2016_04.csv', 'nba_2016_05.csv', 'nba_2016_06.csv']"
   ]
  },
  {
   "cell_type": "code",
   "execution_count": 4,
   "metadata": {},
   "outputs": [],
   "source": [
    "csv_objs = []   # pandas 데이터프레임 객체들(각 월별 데이터 표)의 리스트\n",
    "for f in data_files:\n",
    "    month_data = os.path.join(data_folder, f)\n",
    "    csv_objs.append(pd.read_csv(month_data))"
   ]
  },
  {
   "cell_type": "code",
   "execution_count": 5,
   "metadata": {},
   "outputs": [],
   "source": [
    "season_result = pd.concat(csv_objs, ignore_index=True)   # ignore_index=True로 하면 새롭게 index가 설정됨\n",
    "season_result.columns = [\"Date\", \"StartTime\", \"VisitorTeam\",\n",
    "                         \"VisitorPts\", \"HomeTeam\", \"HomePts\",\n",
    "                         \"ScoreType\", \"Overtime\", \"Attend\",\n",
    "                         \"Notes\"]"
   ]
  },
  {
   "cell_type": "code",
   "execution_count": 6,
   "metadata": {},
   "outputs": [
    {
     "data": {
      "text/html": [
       "<div>\n",
       "<style scoped>\n",
       "    .dataframe tbody tr th:only-of-type {\n",
       "        vertical-align: middle;\n",
       "    }\n",
       "\n",
       "    .dataframe tbody tr th {\n",
       "        vertical-align: top;\n",
       "    }\n",
       "\n",
       "    .dataframe thead th {\n",
       "        text-align: right;\n",
       "    }\n",
       "</style>\n",
       "<table border=\"1\" class=\"dataframe\">\n",
       "  <thead>\n",
       "    <tr style=\"text-align: right;\">\n",
       "      <th></th>\n",
       "      <th>Date</th>\n",
       "      <th>StartTime</th>\n",
       "      <th>VisitorTeam</th>\n",
       "      <th>VisitorPts</th>\n",
       "      <th>HomeTeam</th>\n",
       "      <th>HomePts</th>\n",
       "      <th>ScoreType</th>\n",
       "      <th>Overtime</th>\n",
       "      <th>Attend</th>\n",
       "      <th>Notes</th>\n",
       "    </tr>\n",
       "  </thead>\n",
       "  <tbody>\n",
       "    <tr>\n",
       "      <th>0</th>\n",
       "      <td>Tue Oct 27 2015</td>\n",
       "      <td>8:00p</td>\n",
       "      <td>Detroit Pistons</td>\n",
       "      <td>106</td>\n",
       "      <td>Atlanta Hawks</td>\n",
       "      <td>94</td>\n",
       "      <td>Box Score</td>\n",
       "      <td>NaN</td>\n",
       "      <td>19187</td>\n",
       "      <td>NaN</td>\n",
       "    </tr>\n",
       "    <tr>\n",
       "      <th>1</th>\n",
       "      <td>Tue Oct 27 2015</td>\n",
       "      <td>8:00p</td>\n",
       "      <td>Cleveland Cavaliers</td>\n",
       "      <td>95</td>\n",
       "      <td>Chicago Bulls</td>\n",
       "      <td>97</td>\n",
       "      <td>Box Score</td>\n",
       "      <td>NaN</td>\n",
       "      <td>21957</td>\n",
       "      <td>NaN</td>\n",
       "    </tr>\n",
       "    <tr>\n",
       "      <th>2</th>\n",
       "      <td>Tue Oct 27 2015</td>\n",
       "      <td>10:30p</td>\n",
       "      <td>New Orleans Pelicans</td>\n",
       "      <td>95</td>\n",
       "      <td>Golden State Warriors</td>\n",
       "      <td>111</td>\n",
       "      <td>Box Score</td>\n",
       "      <td>NaN</td>\n",
       "      <td>19596</td>\n",
       "      <td>NaN</td>\n",
       "    </tr>\n",
       "  </tbody>\n",
       "</table>\n",
       "</div>"
      ],
      "text/plain": [
       "              Date StartTime           VisitorTeam  VisitorPts  \\\n",
       "0  Tue Oct 27 2015     8:00p       Detroit Pistons         106   \n",
       "1  Tue Oct 27 2015     8:00p   Cleveland Cavaliers          95   \n",
       "2  Tue Oct 27 2015    10:30p  New Orleans Pelicans          95   \n",
       "\n",
       "                HomeTeam  HomePts  ScoreType Overtime  Attend Notes  \n",
       "0          Atlanta Hawks       94  Box Score      NaN   19187   NaN  \n",
       "1          Chicago Bulls       97  Box Score      NaN   21957   NaN  \n",
       "2  Golden State Warriors      111  Box Score      NaN   19596   NaN  "
      ]
     },
     "execution_count": 6,
     "metadata": {},
     "output_type": "execute_result"
    }
   ],
   "source": [
    "season_result.head(3)"
   ]
  },
  {
   "cell_type": "code",
   "execution_count": 7,
   "metadata": {},
   "outputs": [
    {
     "name": "stdout",
     "output_type": "stream",
     "text": [
      "1316\n"
     ]
    }
   ],
   "source": [
    "print(len(season_result))"
   ]
  },
  {
   "cell_type": "code",
   "execution_count": 8,
   "metadata": {},
   "outputs": [],
   "source": [
    "season_result[\"HomeWin\"] = season_result[\"VisitorPts\"] < season_result[\"HomePts\"]"
   ]
  },
  {
   "cell_type": "code",
   "execution_count": 9,
   "metadata": {},
   "outputs": [
    {
     "data": {
      "text/html": [
       "<div>\n",
       "<style scoped>\n",
       "    .dataframe tbody tr th:only-of-type {\n",
       "        vertical-align: middle;\n",
       "    }\n",
       "\n",
       "    .dataframe tbody tr th {\n",
       "        vertical-align: top;\n",
       "    }\n",
       "\n",
       "    .dataframe thead th {\n",
       "        text-align: right;\n",
       "    }\n",
       "</style>\n",
       "<table border=\"1\" class=\"dataframe\">\n",
       "  <thead>\n",
       "    <tr style=\"text-align: right;\">\n",
       "      <th></th>\n",
       "      <th>Date</th>\n",
       "      <th>StartTime</th>\n",
       "      <th>VisitorTeam</th>\n",
       "      <th>VisitorPts</th>\n",
       "      <th>HomeTeam</th>\n",
       "      <th>HomePts</th>\n",
       "      <th>ScoreType</th>\n",
       "      <th>Overtime</th>\n",
       "      <th>Attend</th>\n",
       "      <th>Notes</th>\n",
       "      <th>HomeWin</th>\n",
       "    </tr>\n",
       "  </thead>\n",
       "  <tbody>\n",
       "    <tr>\n",
       "      <th>1313</th>\n",
       "      <td>Mon Jun 13 2016</td>\n",
       "      <td>9:00p</td>\n",
       "      <td>Cleveland Cavaliers</td>\n",
       "      <td>112</td>\n",
       "      <td>Golden State Warriors</td>\n",
       "      <td>97</td>\n",
       "      <td>Box Score</td>\n",
       "      <td>NaN</td>\n",
       "      <td>19596</td>\n",
       "      <td>NaN</td>\n",
       "      <td>False</td>\n",
       "    </tr>\n",
       "    <tr>\n",
       "      <th>1314</th>\n",
       "      <td>Thu Jun 16 2016</td>\n",
       "      <td>9:00p</td>\n",
       "      <td>Golden State Warriors</td>\n",
       "      <td>101</td>\n",
       "      <td>Cleveland Cavaliers</td>\n",
       "      <td>115</td>\n",
       "      <td>Box Score</td>\n",
       "      <td>NaN</td>\n",
       "      <td>20562</td>\n",
       "      <td>NaN</td>\n",
       "      <td>True</td>\n",
       "    </tr>\n",
       "    <tr>\n",
       "      <th>1315</th>\n",
       "      <td>Sun Jun 19 2016</td>\n",
       "      <td>8:00p</td>\n",
       "      <td>Cleveland Cavaliers</td>\n",
       "      <td>93</td>\n",
       "      <td>Golden State Warriors</td>\n",
       "      <td>89</td>\n",
       "      <td>Box Score</td>\n",
       "      <td>NaN</td>\n",
       "      <td>19596</td>\n",
       "      <td>NaN</td>\n",
       "      <td>False</td>\n",
       "    </tr>\n",
       "  </tbody>\n",
       "</table>\n",
       "</div>"
      ],
      "text/plain": [
       "                 Date StartTime            VisitorTeam  VisitorPts  \\\n",
       "1313  Mon Jun 13 2016     9:00p    Cleveland Cavaliers         112   \n",
       "1314  Thu Jun 16 2016     9:00p  Golden State Warriors         101   \n",
       "1315  Sun Jun 19 2016     8:00p    Cleveland Cavaliers          93   \n",
       "\n",
       "                   HomeTeam  HomePts  ScoreType Overtime  Attend Notes  \\\n",
       "1313  Golden State Warriors       97  Box Score      NaN   19596   NaN   \n",
       "1314    Cleveland Cavaliers      115  Box Score      NaN   20562   NaN   \n",
       "1315  Golden State Warriors       89  Box Score      NaN   19596   NaN   \n",
       "\n",
       "      HomeWin  \n",
       "1313    False  \n",
       "1314     True  \n",
       "1315    False  "
      ]
     },
     "execution_count": 9,
     "metadata": {},
     "output_type": "execute_result"
    }
   ],
   "source": [
    "season_result.tail(3)"
   ]
  },
  {
   "cell_type": "code",
   "execution_count": 10,
   "metadata": {},
   "outputs": [
    {
     "name": "stdout",
     "output_type": "stream",
     "text": [
      "Home Win percentage : 59.4%\n"
     ]
    }
   ],
   "source": [
    "score = 100 * season_result[\"HomeWin\"].sum()/season_result[\"HomeWin\"].count()\n",
    "print(\"Home Win percentage : %.1f%%\"%score)"
   ]
  },
  {
   "cell_type": "code",
   "execution_count": 11,
   "metadata": {},
   "outputs": [],
   "source": [
    "# 2014-2015 시즌 결과\n",
    "standing_file = os.path.join(data_folder, \"nba_2014_2015_standing.csv\")\n",
    "standing_result = pd.read_csv(standing_file, skiprows=[0])"
   ]
  },
  {
   "cell_type": "code",
   "execution_count": 12,
   "metadata": {},
   "outputs": [
    {
     "data": {
      "text/html": [
       "<div>\n",
       "<style scoped>\n",
       "    .dataframe tbody tr th:only-of-type {\n",
       "        vertical-align: middle;\n",
       "    }\n",
       "\n",
       "    .dataframe tbody tr th {\n",
       "        vertical-align: top;\n",
       "    }\n",
       "\n",
       "    .dataframe thead th {\n",
       "        text-align: right;\n",
       "    }\n",
       "</style>\n",
       "<table border=\"1\" class=\"dataframe\">\n",
       "  <thead>\n",
       "    <tr style=\"text-align: right;\">\n",
       "      <th></th>\n",
       "      <th>Rk</th>\n",
       "      <th>Team</th>\n",
       "      <th>Overall</th>\n",
       "      <th>Home</th>\n",
       "      <th>Road</th>\n",
       "      <th>E</th>\n",
       "      <th>W</th>\n",
       "      <th>A</th>\n",
       "      <th>C</th>\n",
       "      <th>SE</th>\n",
       "      <th>...</th>\n",
       "      <th>Post</th>\n",
       "      <th>≤3</th>\n",
       "      <th>≥10</th>\n",
       "      <th>Oct</th>\n",
       "      <th>Nov</th>\n",
       "      <th>Dec</th>\n",
       "      <th>Jan</th>\n",
       "      <th>Feb</th>\n",
       "      <th>Mar</th>\n",
       "      <th>Apr</th>\n",
       "    </tr>\n",
       "  </thead>\n",
       "  <tbody>\n",
       "    <tr>\n",
       "      <th>0</th>\n",
       "      <td>1</td>\n",
       "      <td>Golden State Warriors</td>\n",
       "      <td>67-15</td>\n",
       "      <td>39-2</td>\n",
       "      <td>28-13</td>\n",
       "      <td>25-5</td>\n",
       "      <td>42-10</td>\n",
       "      <td>9-1</td>\n",
       "      <td>7-3</td>\n",
       "      <td>9-1</td>\n",
       "      <td>...</td>\n",
       "      <td>25-6</td>\n",
       "      <td>5-3</td>\n",
       "      <td>45-9</td>\n",
       "      <td>1-0</td>\n",
       "      <td>13-2</td>\n",
       "      <td>11-3</td>\n",
       "      <td>12-3</td>\n",
       "      <td>8-3</td>\n",
       "      <td>16-2</td>\n",
       "      <td>6-2</td>\n",
       "    </tr>\n",
       "    <tr>\n",
       "      <th>1</th>\n",
       "      <td>2</td>\n",
       "      <td>Atlanta Hawks</td>\n",
       "      <td>60-22</td>\n",
       "      <td>35-6</td>\n",
       "      <td>25-16</td>\n",
       "      <td>38-14</td>\n",
       "      <td>22-8</td>\n",
       "      <td>12-6</td>\n",
       "      <td>14-4</td>\n",
       "      <td>12-4</td>\n",
       "      <td>...</td>\n",
       "      <td>17-11</td>\n",
       "      <td>6-4</td>\n",
       "      <td>30-10</td>\n",
       "      <td>0-1</td>\n",
       "      <td>9-5</td>\n",
       "      <td>14-2</td>\n",
       "      <td>17-0</td>\n",
       "      <td>7-4</td>\n",
       "      <td>9-7</td>\n",
       "      <td>4-3</td>\n",
       "    </tr>\n",
       "    <tr>\n",
       "      <th>2</th>\n",
       "      <td>3</td>\n",
       "      <td>Houston Rockets</td>\n",
       "      <td>56-26</td>\n",
       "      <td>30-11</td>\n",
       "      <td>26-15</td>\n",
       "      <td>23-7</td>\n",
       "      <td>33-19</td>\n",
       "      <td>9-1</td>\n",
       "      <td>8-2</td>\n",
       "      <td>6-4</td>\n",
       "      <td>...</td>\n",
       "      <td>20-9</td>\n",
       "      <td>8-4</td>\n",
       "      <td>31-14</td>\n",
       "      <td>2-0</td>\n",
       "      <td>11-4</td>\n",
       "      <td>9-5</td>\n",
       "      <td>11-6</td>\n",
       "      <td>7-3</td>\n",
       "      <td>10-6</td>\n",
       "      <td>6-2</td>\n",
       "    </tr>\n",
       "  </tbody>\n",
       "</table>\n",
       "<p>3 rows × 24 columns</p>\n",
       "</div>"
      ],
      "text/plain": [
       "   Rk                   Team Overall   Home   Road      E      W     A     C  \\\n",
       "0   1  Golden State Warriors   67-15   39-2  28-13   25-5  42-10   9-1   7-3   \n",
       "1   2          Atlanta Hawks   60-22   35-6  25-16  38-14   22-8  12-6  14-4   \n",
       "2   3        Houston Rockets   56-26  30-11  26-15   23-7  33-19   9-1   8-2   \n",
       "\n",
       "     SE  ...   Post   ≤3    ≥10  Oct   Nov   Dec   Jan  Feb   Mar  Apr  \n",
       "0   9-1  ...   25-6  5-3   45-9  1-0  13-2  11-3  12-3  8-3  16-2  6-2  \n",
       "1  12-4  ...  17-11  6-4  30-10  0-1   9-5  14-2  17-0  7-4   9-7  4-3  \n",
       "2   6-4  ...   20-9  8-4  31-14  2-0  11-4   9-5  11-6  7-3  10-6  6-2  \n",
       "\n",
       "[3 rows x 24 columns]"
      ]
     },
     "execution_count": 12,
     "metadata": {},
     "output_type": "execute_result"
    }
   ],
   "source": [
    "standing_result.head(3)"
   ]
  },
  {
   "cell_type": "code",
   "execution_count": 13,
   "metadata": {},
   "outputs": [],
   "source": [
    "player_file = os.path.join(data_folder, \"nba_2016_player_stat.csv\")\n",
    "player_result = pd.read_csv(player_file)"
   ]
  },
  {
   "cell_type": "code",
   "execution_count": 14,
   "metadata": {},
   "outputs": [
    {
     "data": {
      "text/plain": [
       "0       Stephen Curry GS\n",
       "1       Kevin Durant OKC\n",
       "2    Boban Marjanovic SA\n",
       "Name: PLAYER, dtype: object"
      ]
     },
     "execution_count": 14,
     "metadata": {},
     "output_type": "execute_result"
    }
   ],
   "source": [
    "player_result[\"PLAYER\"][:3]"
   ]
  },
  {
   "cell_type": "code",
   "execution_count": 15,
   "metadata": {},
   "outputs": [
    {
     "name": "stdout",
     "output_type": "stream",
     "text": [
      "350\n"
     ]
    }
   ],
   "source": [
    "print(len(player_result))   # 시즌에 참여한 선수 수"
   ]
  },
  {
   "cell_type": "code",
   "execution_count": 16,
   "metadata": {},
   "outputs": [
    {
     "data": {
      "text/html": [
       "<div>\n",
       "<style scoped>\n",
       "    .dataframe tbody tr th:only-of-type {\n",
       "        vertical-align: middle;\n",
       "    }\n",
       "\n",
       "    .dataframe tbody tr th {\n",
       "        vertical-align: top;\n",
       "    }\n",
       "\n",
       "    .dataframe thead th {\n",
       "        text-align: right;\n",
       "    }\n",
       "</style>\n",
       "<table border=\"1\" class=\"dataframe\">\n",
       "  <thead>\n",
       "    <tr style=\"text-align: right;\">\n",
       "      <th></th>\n",
       "      <th>RK</th>\n",
       "      <th>PLAYER</th>\n",
       "      <th>GP</th>\n",
       "      <th>MPG</th>\n",
       "      <th>TS%</th>\n",
       "      <th>AST</th>\n",
       "      <th>TO</th>\n",
       "      <th>USG</th>\n",
       "      <th>ORR</th>\n",
       "      <th>DRR</th>\n",
       "      <th>REBR</th>\n",
       "      <th>PER</th>\n",
       "      <th>VA</th>\n",
       "      <th>EWA</th>\n",
       "    </tr>\n",
       "  </thead>\n",
       "  <tbody>\n",
       "    <tr>\n",
       "      <th>0</th>\n",
       "      <td>1.0</td>\n",
       "      <td>Stephen Curry GS</td>\n",
       "      <td>79</td>\n",
       "      <td>34.2</td>\n",
       "      <td>0.669</td>\n",
       "      <td>20.6</td>\n",
       "      <td>10.2</td>\n",
       "      <td>31.6</td>\n",
       "      <td>2.9</td>\n",
       "      <td>13.6</td>\n",
       "      <td>8.6</td>\n",
       "      <td>31.56</td>\n",
       "      <td>828.6</td>\n",
       "      <td>27.6</td>\n",
       "    </tr>\n",
       "    <tr>\n",
       "      <th>1</th>\n",
       "      <td>2.0</td>\n",
       "      <td>Kevin Durant OKC</td>\n",
       "      <td>72</td>\n",
       "      <td>35.8</td>\n",
       "      <td>0.634</td>\n",
       "      <td>16.3</td>\n",
       "      <td>11.3</td>\n",
       "      <td>30.2</td>\n",
       "      <td>2.0</td>\n",
       "      <td>21.8</td>\n",
       "      <td>12.4</td>\n",
       "      <td>28.25</td>\n",
       "      <td>682.8</td>\n",
       "      <td>22.8</td>\n",
       "    </tr>\n",
       "    <tr>\n",
       "      <th>2</th>\n",
       "      <td>3.0</td>\n",
       "      <td>Boban Marjanovic SA</td>\n",
       "      <td>54</td>\n",
       "      <td>9.4</td>\n",
       "      <td>0.662</td>\n",
       "      <td>7.7</td>\n",
       "      <td>10.6</td>\n",
       "      <td>21.0</td>\n",
       "      <td>16.9</td>\n",
       "      <td>26.2</td>\n",
       "      <td>21.7</td>\n",
       "      <td>27.77</td>\n",
       "      <td>130.2</td>\n",
       "      <td>4.3</td>\n",
       "    </tr>\n",
       "    <tr>\n",
       "      <th>3</th>\n",
       "      <td>4.0</td>\n",
       "      <td>Russell Westbrook OKC</td>\n",
       "      <td>80</td>\n",
       "      <td>34.4</td>\n",
       "      <td>0.554</td>\n",
       "      <td>29.0</td>\n",
       "      <td>11.9</td>\n",
       "      <td>33.3</td>\n",
       "      <td>6.1</td>\n",
       "      <td>18.1</td>\n",
       "      <td>12.4</td>\n",
       "      <td>27.64</td>\n",
       "      <td>683.0</td>\n",
       "      <td>22.8</td>\n",
       "    </tr>\n",
       "    <tr>\n",
       "      <th>4</th>\n",
       "      <td>NaN</td>\n",
       "      <td>LeBron James CLE</td>\n",
       "      <td>76</td>\n",
       "      <td>35.6</td>\n",
       "      <td>0.588</td>\n",
       "      <td>21.5</td>\n",
       "      <td>10.4</td>\n",
       "      <td>31.1</td>\n",
       "      <td>4.7</td>\n",
       "      <td>18.8</td>\n",
       "      <td>11.8</td>\n",
       "      <td>27.64</td>\n",
       "      <td>692.9</td>\n",
       "      <td>23.1</td>\n",
       "    </tr>\n",
       "    <tr>\n",
       "      <th>5</th>\n",
       "      <td>6.0</td>\n",
       "      <td>Chris Paul LAC</td>\n",
       "      <td>74</td>\n",
       "      <td>32.7</td>\n",
       "      <td>0.575</td>\n",
       "      <td>33.7</td>\n",
       "      <td>8.9</td>\n",
       "      <td>28.1</td>\n",
       "      <td>1.8</td>\n",
       "      <td>12.0</td>\n",
       "      <td>7.0</td>\n",
       "      <td>26.31</td>\n",
       "      <td>552.8</td>\n",
       "      <td>18.4</td>\n",
       "    </tr>\n",
       "  </tbody>\n",
       "</table>\n",
       "</div>"
      ],
      "text/plain": [
       "    RK                 PLAYER  GP   MPG    TS%   AST    TO   USG   ORR   DRR  \\\n",
       "0  1.0       Stephen Curry GS  79  34.2  0.669  20.6  10.2  31.6   2.9  13.6   \n",
       "1  2.0       Kevin Durant OKC  72  35.8  0.634  16.3  11.3  30.2   2.0  21.8   \n",
       "2  3.0    Boban Marjanovic SA  54   9.4  0.662   7.7  10.6  21.0  16.9  26.2   \n",
       "3  4.0  Russell Westbrook OKC  80  34.4  0.554  29.0  11.9  33.3   6.1  18.1   \n",
       "4  NaN       LeBron James CLE  76  35.6  0.588  21.5  10.4  31.1   4.7  18.8   \n",
       "5  6.0         Chris Paul LAC  74  32.7  0.575  33.7   8.9  28.1   1.8  12.0   \n",
       "\n",
       "   REBR    PER     VA   EWA  \n",
       "0   8.6  31.56  828.6  27.6  \n",
       "1  12.4  28.25  682.8  22.8  \n",
       "2  21.7  27.77  130.2   4.3  \n",
       "3  12.4  27.64  683.0  22.8  \n",
       "4  11.8  27.64  692.9  23.1  \n",
       "5   7.0  26.31  552.8  18.4  "
      ]
     },
     "execution_count": 16,
     "metadata": {},
     "output_type": "execute_result"
    }
   ],
   "source": [
    "player_result.head(6)  # 공동 4위인 Russell Westbrook과 LeBron James에 주목"
   ]
  },
  {
   "cell_type": "code",
   "execution_count": 17,
   "metadata": {},
   "outputs": [],
   "source": [
    "team_name = {\"GS\" : \"Golden State Warriors\",\n",
    "            \"SA\" : \"San Antonio Spurs\",\n",
    "            \"CLE\" : \"Cleveland Cavaliers\",\n",
    "            \"TOR\" : \"Toronto Raptors\",\n",
    "            \"OKC\" : \"Oklahoma City Thunder\",\n",
    "            \"LAC\" : \"Los Angeles Clippers\",\n",
    "            \"ATL\" : \"Atlanta Hawks\",\n",
    "            \"BOS\" : \"Boston Celtics\",\n",
    "            \"CHA\" : \"Charlotte Hornets\",\n",
    "            \"MIA\" : \"Miami Heat\",\n",
    "            \"IND\" : \"Indiana Pacers\",\n",
    "            \"DET\" : \"Detroit Pistons\",\n",
    "            \"POR\" : \"Portland Trail Blazers\",\n",
    "            \"DAL\" : \"Dallas Mavericks\",\n",
    "            \"MEM\" : \"Memphis Grizzlies\",\n",
    "            \"CHI\" : \"Chicago Bulls\",\n",
    "            \"HOU\" : \"Houston Rockets\",\n",
    "            \"WSH\" : \"Washington Wizards\",\n",
    "            \"UTAH\" : \"Utah Jazz\",\n",
    "            \"ORL\" : \"Orlando Magic\",\n",
    "            \"DEN\" : \"Denver Nuggets\",\n",
    "            \"MIL\" : \"Milwaukee Bucks\",\n",
    "            \"SAC\" : \"Sacramento Kings\",\n",
    "            \"NY\" : \"New York Knicks\",\n",
    "            \"NO\" : \"New Orleans Pelicans\",\n",
    "            \"MIN\" : \"Minnesota Timberwolves\",\n",
    "            \"PHX\" : \"Phoenix Suns\",\n",
    "            \"BKN\" : \"Brooklyn Nets\",\n",
    "            \"LAL\" : \"Los Angeles Lakers\",\n",
    "            \"PHI\" : \"Philadelphia 76ers\",\n",
    "}"
   ]
  },
  {
   "cell_type": "code",
   "execution_count": 18,
   "metadata": {},
   "outputs": [],
   "source": [
    "team_per = {}\n",
    "for key, value in team_name.items():\n",
    "    team_per[value] = []\n",
    "\n",
    "for idx, row in player_result.iterrows():   # 각 row의 참조법!\n",
    "    player = row[\"PLAYER\"]\n",
    "    per = row[\"PER\"]\n",
    "    team_list = player.split()[-1].split('/')   # 이적한 선수는 팀이 두개로 표기되어 있다. ex) DEN/PHI\n",
    "    for team in team_list:\n",
    "        team_per[team_name[team]].append(per)"
   ]
  },
  {
   "cell_type": "code",
   "execution_count": 19,
   "metadata": {},
   "outputs": [
    {
     "name": "stdout",
     "output_type": "stream",
     "text": [
      "Golden State Warriors: Sum of PER: 192.37 / Mean of PER: 16.03\n",
      "Philadelphia 76ers: Sum of PER: 165.17 / Mean of PER: 13.76\n"
     ]
    }
   ],
   "source": [
    "print(\"Golden State Warriors: Sum of PER: %.2f / Mean of PER: %.2f\"\n",
    "      %(np.sum(team_per[\"Golden State Warriors\"]),np.mean(team_per[\"Golden State Warriors\"])))\n",
    "print(\"Philadelphia 76ers: Sum of PER: %.2f / Mean of PER: %.2f\"\n",
    "      %(np.sum(team_per[\"Philadelphia 76ers\"]),np.mean(team_per[\"Philadelphia 76ers\"])))"
   ]
  },
  {
   "cell_type": "markdown",
   "metadata": {},
   "source": [
    "- 잘 하는 팀들은 연전연승의 횟수가 많을 것이라고 가정"
   ]
  },
  {
   "cell_type": "code",
   "execution_count": 20,
   "metadata": {},
   "outputs": [],
   "source": [
    "season_result[\"VisitorWinStreak\"] = 0\n",
    "season_result[\"HomeWinStreak\"] = 0\n",
    "\n",
    "winning_streak = defaultdict(int)\n",
    "\n",
    "for index, row in season_result.iterrows():\n",
    "    home = row[\"HomeTeam\"]\n",
    "    visitor = row[\"VisitorTeam\"]\n",
    "    row[\"HomeWinStreak\"] = winning_streak[home]   # home을 key로 갖고 0을 value로 갖는 쌍이 생성됨\n",
    "    row[\"VisitorWinStreak\"] = winning_streak[visitor]  # visitor를 key로 갖고 0을 value로 갖는 쌍이 생성됨\n",
    "    season_result.loc[index] = row   # ix 대신에 loc 쓸것\n",
    "    \n",
    "    if row[\"HomeWin\"]:\n",
    "        winning_streak[home] += 1\n",
    "        winning_streak[visitor] = 0\n",
    "    else:\n",
    "        winning_streak[home] = 0\n",
    "        winning_streak[visitor] += 1\n",
    "        "
   ]
  },
  {
   "cell_type": "code",
   "execution_count": 21,
   "metadata": {},
   "outputs": [
    {
     "data": {
      "text/html": [
       "<div>\n",
       "<style scoped>\n",
       "    .dataframe tbody tr th:only-of-type {\n",
       "        vertical-align: middle;\n",
       "    }\n",
       "\n",
       "    .dataframe tbody tr th {\n",
       "        vertical-align: top;\n",
       "    }\n",
       "\n",
       "    .dataframe thead th {\n",
       "        text-align: right;\n",
       "    }\n",
       "</style>\n",
       "<table border=\"1\" class=\"dataframe\">\n",
       "  <thead>\n",
       "    <tr style=\"text-align: right;\">\n",
       "      <th></th>\n",
       "      <th>Date</th>\n",
       "      <th>StartTime</th>\n",
       "      <th>VisitorTeam</th>\n",
       "      <th>VisitorPts</th>\n",
       "      <th>HomeTeam</th>\n",
       "      <th>HomePts</th>\n",
       "      <th>ScoreType</th>\n",
       "      <th>Overtime</th>\n",
       "      <th>Attend</th>\n",
       "      <th>Notes</th>\n",
       "      <th>HomeWin</th>\n",
       "      <th>VisitorWinStreak</th>\n",
       "      <th>HomeWinStreak</th>\n",
       "    </tr>\n",
       "  </thead>\n",
       "  <tbody>\n",
       "    <tr>\n",
       "      <th>1311</th>\n",
       "      <td>Wed Jun 8 2016</td>\n",
       "      <td>9:00p</td>\n",
       "      <td>Golden State Warriors</td>\n",
       "      <td>90</td>\n",
       "      <td>Cleveland Cavaliers</td>\n",
       "      <td>120</td>\n",
       "      <td>Box Score</td>\n",
       "      <td>NaN</td>\n",
       "      <td>20562</td>\n",
       "      <td>NaN</td>\n",
       "      <td>True</td>\n",
       "      <td>5</td>\n",
       "      <td>0</td>\n",
       "    </tr>\n",
       "    <tr>\n",
       "      <th>1312</th>\n",
       "      <td>Fri Jun 10 2016</td>\n",
       "      <td>9:00p</td>\n",
       "      <td>Golden State Warriors</td>\n",
       "      <td>108</td>\n",
       "      <td>Cleveland Cavaliers</td>\n",
       "      <td>97</td>\n",
       "      <td>Box Score</td>\n",
       "      <td>NaN</td>\n",
       "      <td>20562</td>\n",
       "      <td>NaN</td>\n",
       "      <td>False</td>\n",
       "      <td>0</td>\n",
       "      <td>1</td>\n",
       "    </tr>\n",
       "    <tr>\n",
       "      <th>1313</th>\n",
       "      <td>Mon Jun 13 2016</td>\n",
       "      <td>9:00p</td>\n",
       "      <td>Cleveland Cavaliers</td>\n",
       "      <td>112</td>\n",
       "      <td>Golden State Warriors</td>\n",
       "      <td>97</td>\n",
       "      <td>Box Score</td>\n",
       "      <td>NaN</td>\n",
       "      <td>19596</td>\n",
       "      <td>NaN</td>\n",
       "      <td>False</td>\n",
       "      <td>0</td>\n",
       "      <td>1</td>\n",
       "    </tr>\n",
       "    <tr>\n",
       "      <th>1314</th>\n",
       "      <td>Thu Jun 16 2016</td>\n",
       "      <td>9:00p</td>\n",
       "      <td>Golden State Warriors</td>\n",
       "      <td>101</td>\n",
       "      <td>Cleveland Cavaliers</td>\n",
       "      <td>115</td>\n",
       "      <td>Box Score</td>\n",
       "      <td>NaN</td>\n",
       "      <td>20562</td>\n",
       "      <td>NaN</td>\n",
       "      <td>True</td>\n",
       "      <td>0</td>\n",
       "      <td>1</td>\n",
       "    </tr>\n",
       "    <tr>\n",
       "      <th>1315</th>\n",
       "      <td>Sun Jun 19 2016</td>\n",
       "      <td>8:00p</td>\n",
       "      <td>Cleveland Cavaliers</td>\n",
       "      <td>93</td>\n",
       "      <td>Golden State Warriors</td>\n",
       "      <td>89</td>\n",
       "      <td>Box Score</td>\n",
       "      <td>NaN</td>\n",
       "      <td>19596</td>\n",
       "      <td>NaN</td>\n",
       "      <td>False</td>\n",
       "      <td>2</td>\n",
       "      <td>0</td>\n",
       "    </tr>\n",
       "  </tbody>\n",
       "</table>\n",
       "</div>"
      ],
      "text/plain": [
       "                 Date StartTime            VisitorTeam  VisitorPts  \\\n",
       "1311   Wed Jun 8 2016     9:00p  Golden State Warriors          90   \n",
       "1312  Fri Jun 10 2016     9:00p  Golden State Warriors         108   \n",
       "1313  Mon Jun 13 2016     9:00p    Cleveland Cavaliers         112   \n",
       "1314  Thu Jun 16 2016     9:00p  Golden State Warriors         101   \n",
       "1315  Sun Jun 19 2016     8:00p    Cleveland Cavaliers          93   \n",
       "\n",
       "                   HomeTeam  HomePts  ScoreType Overtime  Attend Notes  \\\n",
       "1311    Cleveland Cavaliers      120  Box Score      NaN   20562   NaN   \n",
       "1312    Cleveland Cavaliers       97  Box Score      NaN   20562   NaN   \n",
       "1313  Golden State Warriors       97  Box Score      NaN   19596   NaN   \n",
       "1314    Cleveland Cavaliers      115  Box Score      NaN   20562   NaN   \n",
       "1315  Golden State Warriors       89  Box Score      NaN   19596   NaN   \n",
       "\n",
       "      HomeWin  VisitorWinStreak  HomeWinStreak  \n",
       "1311     True                 5              0  \n",
       "1312    False                 0              1  \n",
       "1313    False                 0              1  \n",
       "1314     True                 0              1  \n",
       "1315    False                 2              0  "
      ]
     },
     "execution_count": 21,
     "metadata": {},
     "output_type": "execute_result"
    }
   ],
   "source": [
    "season_result.tail()"
   ]
  },
  {
   "cell_type": "code",
   "execution_count": 22,
   "metadata": {},
   "outputs": [],
   "source": [
    "clf = DecisionTreeClassifier(random_state=7)\n",
    "x_test = season_result[[\"VisitorWinStreak\",\"HomeWinStreak\"]].values  # numpy.array로 변환\n",
    "y_test = season_result[\"HomeWin\"].values\n",
    "scores = cross_val_score(clf, x_test, y_test, scoring=\"accuracy\", cv=3)"
   ]
  },
  {
   "cell_type": "code",
   "execution_count": 23,
   "metadata": {},
   "outputs": [
    {
     "data": {
      "text/plain": [
       "array([[0, 0],\n",
       "       [0, 0],\n",
       "       [0, 0],\n",
       "       ...,\n",
       "       [0, 1],\n",
       "       [0, 1],\n",
       "       [2, 0]])"
      ]
     },
     "execution_count": 23,
     "metadata": {},
     "output_type": "execute_result"
    }
   ],
   "source": [
    "season_result[[\"VisitorWinStreak\",\"HomeWinStreak\"]].values"
   ]
  },
  {
   "cell_type": "markdown",
   "metadata": {},
   "source": [
    "- VisitorWinStreak과 HomeWinStreak만 고려했을때"
   ]
  },
  {
   "cell_type": "code",
   "execution_count": 24,
   "metadata": {},
   "outputs": [
    {
     "name": "stdout",
     "output_type": "stream",
     "text": [
      "Accuracy: 56.1% (+/- 0.02%)\n"
     ]
    }
   ],
   "source": [
    "print(\"Accuracy: %.1f%% (+/- %.2f%%)\"%(np.mean(scores)*100, np.std(scores)))"
   ]
  },
  {
   "cell_type": "code",
   "execution_count": 25,
   "metadata": {},
   "outputs": [
    {
     "name": "stdout",
     "output_type": "stream",
     "text": [
      "[[0 0]\n",
      " [0 0]\n",
      " [0 0]\n",
      " ...\n",
      " [0 1]\n",
      " [0 1]\n",
      " [2 0]] [False  True  True ... False  True False]\n"
     ]
    }
   ],
   "source": [
    "print(x_test, y_test)"
   ]
  },
  {
   "cell_type": "code",
   "execution_count": 26,
   "metadata": {},
   "outputs": [],
   "source": [
    "standing_result[\"PER_Sum\"] = 0\n",
    "for idx, row in standing_result.iterrows():\n",
    "    team = row[\"Team\"]\n",
    "    row[\"PER_Sum\"] = np.sum(team_per[team][:10])   # 각 팀별 PER 상위 10명의 PER을 모두 더한다.\n",
    "    standing_result.loc[idx] = row"
   ]
  },
  {
   "cell_type": "code",
   "execution_count": 27,
   "metadata": {},
   "outputs": [],
   "source": [
    "# 각 팀에서 PER 상위 10명의 PER 합을 비교\n",
    "season_result[\"HomePERHigh\"] = 0\n",
    "for idx, row in season_result.iterrows():\n",
    "    home = row[\"HomeTeam\"]\n",
    "    visitor = row[\"VisitorTeam\"]\n",
    "    \n",
    "    home_per = standing_result[standing_result[\"Team\"] == home][\"PER_Sum\"].values[0]\n",
    "    visitor_per = standing_result[standing_result[\"Team\"] == visitor][\"PER_Sum\"].values[0]\n",
    "    row[\"HomePERHigh\"] = int(home_per > visitor_per)\n",
    "    season_result.loc[idx] = row"
   ]
  },
  {
   "cell_type": "code",
   "execution_count": 28,
   "metadata": {},
   "outputs": [
    {
     "data": {
      "text/html": [
       "<div>\n",
       "<style scoped>\n",
       "    .dataframe tbody tr th:only-of-type {\n",
       "        vertical-align: middle;\n",
       "    }\n",
       "\n",
       "    .dataframe tbody tr th {\n",
       "        vertical-align: top;\n",
       "    }\n",
       "\n",
       "    .dataframe thead th {\n",
       "        text-align: right;\n",
       "    }\n",
       "</style>\n",
       "<table border=\"1\" class=\"dataframe\">\n",
       "  <thead>\n",
       "    <tr style=\"text-align: right;\">\n",
       "      <th></th>\n",
       "      <th>Rk</th>\n",
       "      <th>Team</th>\n",
       "      <th>Overall</th>\n",
       "      <th>Home</th>\n",
       "      <th>Road</th>\n",
       "      <th>E</th>\n",
       "      <th>W</th>\n",
       "      <th>A</th>\n",
       "      <th>C</th>\n",
       "      <th>SE</th>\n",
       "      <th>...</th>\n",
       "      <th>≤3</th>\n",
       "      <th>≥10</th>\n",
       "      <th>Oct</th>\n",
       "      <th>Nov</th>\n",
       "      <th>Dec</th>\n",
       "      <th>Jan</th>\n",
       "      <th>Feb</th>\n",
       "      <th>Mar</th>\n",
       "      <th>Apr</th>\n",
       "      <th>PER_Sum</th>\n",
       "    </tr>\n",
       "  </thead>\n",
       "  <tbody>\n",
       "    <tr>\n",
       "      <th>0</th>\n",
       "      <td>1</td>\n",
       "      <td>Golden State Warriors</td>\n",
       "      <td>67-15</td>\n",
       "      <td>39-2</td>\n",
       "      <td>28-13</td>\n",
       "      <td>25-5</td>\n",
       "      <td>42-10</td>\n",
       "      <td>9-1</td>\n",
       "      <td>7-3</td>\n",
       "      <td>9-1</td>\n",
       "      <td>...</td>\n",
       "      <td>5-3</td>\n",
       "      <td>45-9</td>\n",
       "      <td>1-0</td>\n",
       "      <td>13-2</td>\n",
       "      <td>11-3</td>\n",
       "      <td>12-3</td>\n",
       "      <td>8-3</td>\n",
       "      <td>16-2</td>\n",
       "      <td>6-2</td>\n",
       "      <td>170.68</td>\n",
       "    </tr>\n",
       "  </tbody>\n",
       "</table>\n",
       "<p>1 rows × 25 columns</p>\n",
       "</div>"
      ],
      "text/plain": [
       "   Rk                   Team Overall  Home   Road     E      W    A    C   SE  \\\n",
       "0   1  Golden State Warriors   67-15  39-2  28-13  25-5  42-10  9-1  7-3  9-1   \n",
       "\n",
       "   ...   ≤3   ≥10  Oct   Nov   Dec   Jan  Feb   Mar  Apr PER_Sum  \n",
       "0  ...  5-3  45-9  1-0  13-2  11-3  12-3  8-3  16-2  6-2  170.68  \n",
       "\n",
       "[1 rows x 25 columns]"
      ]
     },
     "execution_count": 28,
     "metadata": {},
     "output_type": "execute_result"
    }
   ],
   "source": [
    "standing_result[standing_result[\"Team\"] == \"Golden State Warriors\"]  # 특정 row 참조법"
   ]
  },
  {
   "cell_type": "markdown",
   "metadata": {},
   "source": [
    "- HomePERHigh만 고려했을때"
   ]
  },
  {
   "cell_type": "code",
   "execution_count": 29,
   "metadata": {},
   "outputs": [
    {
     "name": "stdout",
     "output_type": "stream",
     "text": [
      "Accuracy: 63.4% (+/- 0.02)\n"
     ]
    }
   ],
   "source": [
    "x_test = season_result[[\"HomePERHigh\"]].values\n",
    "scores = cross_val_score(clf, x_test, y_test, scoring=\"accuracy\", cv=3)\n",
    "print(\"Accuracy: %.1f%% (+/- %.2f)\"%(np.mean(scores)*100, np.std(scores)))"
   ]
  },
  {
   "cell_type": "code",
   "execution_count": 30,
   "metadata": {},
   "outputs": [
    {
     "data": {
      "text/plain": [
       "array([[1],\n",
       "       [0],\n",
       "       [1],\n",
       "       ...,\n",
       "       [1],\n",
       "       [0],\n",
       "       [1]])"
      ]
     },
     "execution_count": 30,
     "metadata": {},
     "output_type": "execute_result"
    }
   ],
   "source": [
    "season_result[[\"HomePERHigh\"]].values"
   ]
  },
  {
   "cell_type": "markdown",
   "metadata": {},
   "source": [
    "- HomeWinStreak, VisitorWinStreak, HomePERHigh 셋 다 고려했을때"
   ]
  },
  {
   "cell_type": "code",
   "execution_count": 31,
   "metadata": {},
   "outputs": [
    {
     "name": "stdout",
     "output_type": "stream",
     "text": [
      "Accuracy: 61.1% (+/- 0.02)\n"
     ]
    }
   ],
   "source": [
    "x_test = season_result[[\"HomeWinStreak\", \"VisitorWinStreak\", \"HomePERHigh\"]].values\n",
    "scores = cross_val_score(clf, x_test, y_test, scoring=\"accuracy\", cv=4)\n",
    "print(\"Accuracy: %.1f%% (+/- %.2f)\"%(np.mean(scores)*100, np.std(scores)))"
   ]
  },
  {
   "cell_type": "code",
   "execution_count": 32,
   "metadata": {},
   "outputs": [
    {
     "name": "stdout",
     "output_type": "stream",
     "text": [
      "[9 5]\n",
      "['Golden State Warriors' 'Cleveland Cavaliers']\n"
     ]
    }
   ],
   "source": [
    "name_encoding = LabelEncoder()\n",
    "name_encoding.fit(season_result[\"HomeTeam\"].values)  # 팀 이름을 숫자에 대응시킴\n",
    "\n",
    "print(name_encoding.transform([\"Golden State Warriors\", \"Cleveland Cavaliers\"]))\n",
    "print(name_encoding.inverse_transform([9,5]))"
   ]
  },
  {
   "cell_type": "code",
   "execution_count": 33,
   "metadata": {},
   "outputs": [],
   "source": [
    "home_teams = name_encoding.transform(season_result[\"HomeTeam\"].values)\n",
    "visitor_teams = name_encoding.transform(season_result[\"VisitorTeam\"].values)\n",
    "team_match = np.vstack([home_teams, visitor_teams]).T"
   ]
  },
  {
   "cell_type": "code",
   "execution_count": 34,
   "metadata": {},
   "outputs": [
    {
     "data": {
      "text/plain": [
       "array([0, 4, 9, ..., 9, 5, 9])"
      ]
     },
     "execution_count": 34,
     "metadata": {},
     "output_type": "execute_result"
    }
   ],
   "source": [
    "home_teams"
   ]
  },
  {
   "cell_type": "code",
   "execution_count": 35,
   "metadata": {},
   "outputs": [
    {
     "data": {
      "text/plain": [
       "array([ 8,  5, 18, ...,  5,  9,  5])"
      ]
     },
     "execution_count": 35,
     "metadata": {},
     "output_type": "execute_result"
    }
   ],
   "source": [
    "visitor_teams"
   ]
  },
  {
   "cell_type": "code",
   "execution_count": 36,
   "metadata": {},
   "outputs": [
    {
     "data": {
      "text/plain": [
       "array([[ 0,  4,  9, ...,  9,  5,  9],\n",
       "       [ 8,  5, 18, ...,  5,  9,  5]])"
      ]
     },
     "execution_count": 36,
     "metadata": {},
     "output_type": "execute_result"
    }
   ],
   "source": [
    "np.vstack([home_teams, visitor_teams])"
   ]
  },
  {
   "cell_type": "code",
   "execution_count": 37,
   "metadata": {},
   "outputs": [
    {
     "data": {
      "text/plain": [
       "array([[ 0,  8],\n",
       "       [ 4,  5],\n",
       "       [ 9, 18],\n",
       "       ...,\n",
       "       [ 9,  5],\n",
       "       [ 5,  9],\n",
       "       [ 9,  5]])"
      ]
     },
     "execution_count": 37,
     "metadata": {},
     "output_type": "execute_result"
    }
   ],
   "source": [
    "team_match"
   ]
  },
  {
   "cell_type": "code",
   "execution_count": 38,
   "metadata": {},
   "outputs": [],
   "source": [
    "onehot = OneHotEncoder(categories='auto')\n",
    "x_test = onehot.fit_transform(team_match).todense()"
   ]
  },
  {
   "cell_type": "code",
   "execution_count": 39,
   "metadata": {},
   "outputs": [
    {
     "data": {
      "text/plain": [
       "matrix([[1., 0., 0., 0., 0., 0., 0., 0., 0., 0., 0., 0., 0., 0., 0., 0.,\n",
       "         0., 0., 0., 0., 0., 0., 0., 0., 0., 0., 0., 0., 0., 0., 0., 0.,\n",
       "         0., 0., 0., 0., 0., 0., 1., 0., 0., 0., 0., 0., 0., 0., 0., 0.,\n",
       "         0., 0., 0., 0., 0., 0., 0., 0., 0., 0., 0., 0.]])"
      ]
     },
     "execution_count": 39,
     "metadata": {},
     "output_type": "execute_result"
    }
   ],
   "source": [
    "x_test[0]"
   ]
  },
  {
   "cell_type": "code",
   "execution_count": 40,
   "metadata": {},
   "outputs": [
    {
     "name": "stdout",
     "output_type": "stream",
     "text": [
      "Accuracy: 63.0% (+/- 0.01)\n"
     ]
    }
   ],
   "source": [
    "scores = cross_val_score(clf, x_test, y_test, scoring=\"accuracy\", cv=3)\n",
    "print(\"Accuracy: %.1f%% (+/- %.2f)\"%(np.mean(scores)*100, np.std(scores)))"
   ]
  },
  {
   "cell_type": "code",
   "execution_count": 41,
   "metadata": {},
   "outputs": [],
   "source": [
    "season_result[\"HomeRankHigh\"] = 0\n",
    "for idx, row in season_result.iterrows():\n",
    "    home = row[\"HomeTeam\"]\n",
    "    visitor = row[\"VisitorTeam\"]\n",
    "    \n",
    "    home_rank = standing_result[standing_result[\"Team\"] == home][\"Rk\"].values[0]\n",
    "    visitor_rank = standing_result[standing_result[\"Team\"] == visitor][\"Rk\"].values[0]\n",
    "    row[\"HomeRankHigh\"] = int(home_rank > visitor_rank)\n",
    "    season_result.loc[idx] = row"
   ]
  },
  {
   "cell_type": "markdown",
   "metadata": {},
   "source": [
    "- HomeRankHigh만 고려했을때"
   ]
  },
  {
   "cell_type": "code",
   "execution_count": 42,
   "metadata": {},
   "outputs": [
    {
     "name": "stdout",
     "output_type": "stream",
     "text": [
      "Accuracy: 62.0% (+/- 0.03)\n"
     ]
    }
   ],
   "source": [
    "x_test = season_result[[\"HomeRankHigh\"]].values\n",
    "scores = cross_val_score(clf, x_test, y_test, scoring=\"accuracy\", cv=5)\n",
    "print(\"Accuracy: %.1f%% (+/- %.2f)\"%(np.mean(scores)*100, np.std(scores)))"
   ]
  },
  {
   "cell_type": "markdown",
   "metadata": {},
   "source": [
    "- HomeWinStreak, VisitorWinStreak, HomePERHigh, HomeRankHigh를 다 고려했을때"
   ]
  },
  {
   "cell_type": "code",
   "execution_count": 43,
   "metadata": {},
   "outputs": [
    {
     "name": "stdout",
     "output_type": "stream",
     "text": [
      "Accuracy: 62.7% (+/- 0.02)\n"
     ]
    }
   ],
   "source": [
    "x_test = season_result[[\"HomeRankHigh\", \"HomePERHigh\", \"HomeWinStreak\", \"VisitorWinStreak\",]].values\n",
    "scores = cross_val_score(clf, x_test, y_test, scoring=\"accuracy\", cv=4)\n",
    "print(\"Accuracy: %.1f%% (+/- %.2f)\"%(np.mean(scores)*100, np.std(scores)))"
   ]
  }
 ],
 "metadata": {
  "kernelspec": {
   "display_name": "Python 3",
   "language": "python",
   "name": "python3"
  },
  "language_info": {
   "codemirror_mode": {
    "name": "ipython",
    "version": 3
   },
   "file_extension": ".py",
   "mimetype": "text/x-python",
   "name": "python",
   "nbconvert_exporter": "python",
   "pygments_lexer": "ipython3",
   "version": "3.6.5"
  }
 },
 "nbformat": 4,
 "nbformat_minor": 2
}
