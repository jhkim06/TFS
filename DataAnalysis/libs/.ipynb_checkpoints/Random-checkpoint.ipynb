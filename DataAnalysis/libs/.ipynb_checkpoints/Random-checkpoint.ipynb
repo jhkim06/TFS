{
 "cells": [
  {
   "cell_type": "markdown",
   "metadata": {},
   "source": [
    "### RANDOM"
   ]
  },
  {
   "cell_type": "markdown",
   "metadata": {},
   "source": [
    "###### 1) 난수 발생\n",
    "- random() : 0~1 사이의 난수\n",
    "- uniform(시작, 끝) : 시작~끝 실수 난수\n",
    "- randrange(시작, 끝) : 시작~끝 정수 난수\n",
    "- randint(시작, 끝) : 시작~끝 정수 난수"
   ]
  },
  {
   "cell_type": "code",
   "execution_count": 4,
   "metadata": {},
   "outputs": [],
   "source": [
    "import random"
   ]
  },
  {
   "cell_type": "code",
   "execution_count": 5,
   "metadata": {},
   "outputs": [
    {
     "data": {
      "text/plain": [
       "[0.27, 0.61, 0.02, 0.28, 0.77, 0.65, 0.9, 0.77, 0.12, 0.07]"
      ]
     },
     "execution_count": 5,
     "metadata": {},
     "output_type": "execute_result"
    }
   ],
   "source": [
    "a = [round(random.random(), 2) for i in range(100)]   # list comprehension이라는 테크닉\n",
    "a[:10]"
   ]
  },
  {
   "cell_type": "code",
   "execution_count": 6,
   "metadata": {},
   "outputs": [
    {
     "data": {
      "text/plain": [
       "[3.08, 7.73, 4.79, 4.44, 9.03, 3.29, 6.49, 7.85, 1.94, 3.24]"
      ]
     },
     "execution_count": 6,
     "metadata": {},
     "output_type": "execute_result"
    }
   ],
   "source": [
    "b = [round(random.uniform(1, 10), 2) for i in range(100)]\n",
    "b[:10]"
   ]
  },
  {
   "cell_type": "code",
   "execution_count": 75,
   "metadata": {},
   "outputs": [
    {
     "data": {
      "text/plain": [
       "0.1"
      ]
     },
     "execution_count": 75,
     "metadata": {},
     "output_type": "execute_result"
    }
   ],
   "source": [
    "# round() 함수의 단점\n",
    "round(0.15,1)   # 단순 반올림으로 생각하면 안된다. 0.15를 소수점 첫째자리까지 반올림하면 0.2지만 0.1을 출력한다. 주의!!!"
   ]
  },
  {
   "cell_type": "code",
   "execution_count": 67,
   "metadata": {},
   "outputs": [
    {
     "data": {
      "text/plain": [
       "[1, 1, 1, 1, 1, 1, 1, 1, 1, 1]"
      ]
     },
     "execution_count": 67,
     "metadata": {},
     "output_type": "execute_result"
    }
   ],
   "source": [
    "c = [random.randrange(1, 100) for _ in range(100)]   # 끝수는 포함이 되지 않는다.\n",
    "c[:10]"
   ]
  },
  {
   "cell_type": "code",
   "execution_count": 90,
   "metadata": {},
   "outputs": [
    {
     "data": {
      "text/plain": [
       "[5, 9, 10, 9, 4, 9, 6, 7, 5, 9]"
      ]
     },
     "execution_count": 90,
     "metadata": {},
     "output_type": "execute_result"
    }
   ],
   "source": [
    "d = [random.randint(1, 10) for _ in range(100)]   # 끝수 포함\n",
    "d[:10]"
   ]
  }
 ],
 "metadata": {
  "kernelspec": {
   "display_name": "Python 3",
   "language": "python",
   "name": "python3"
  },
  "language_info": {
   "codemirror_mode": {
    "name": "ipython",
    "version": 3
   },
   "file_extension": ".py",
   "mimetype": "text/x-python",
   "name": "python",
   "nbconvert_exporter": "python",
   "pygments_lexer": "ipython3",
   "version": "3.6.5"
  }
 },
 "nbformat": 4,
 "nbformat_minor": 2
}
